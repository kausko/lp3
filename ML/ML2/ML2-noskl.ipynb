{
 "cells": [
  {
   "cell_type": "markdown",
   "metadata": {},
   "source": [
    "## Decision Tree Classifier"
   ]
  },
  {
   "cell_type": "markdown",
   "metadata": {},
   "source": [
    "- Using the dataset below, build a decision tree, with Buys as the target variable, to help in buying lipsticks in the future.\n",
    "- Find the root node of the decision tree.\n",
    "- Find the decision for the test data: [Age < 21, Income = Low, Gender = Female, Marital Status = Married]"
   ]
  },
  {
   "cell_type": "markdown",
   "metadata": {},
   "source": [
    "### Imports"
   ]
  },
  {
   "cell_type": "code",
   "execution_count": 44,
   "metadata": {},
   "outputs": [],
   "source": [
    "import numpy as np\n",
    "import pandas as pd\n",
    "from typing import Hashable, Any, Literal\n",
    "IG_CRITERION = Literal['gini', 'entropy']"
   ]
  },
  {
   "cell_type": "markdown",
   "metadata": {},
   "source": [
    "### Decision Tree Functions"
   ]
  },
  {
   "cell_type": "markdown",
   "metadata": {},
   "source": [
    "\\begin{align}\n",
    "Gini = 1 - \\sum_{i=1}^{n} p^{2}\\left(c_{i}\\right)\n",
    "\\end{align}"
   ]
  },
  {
   "cell_type": "code",
   "execution_count": 45,
   "metadata": {},
   "outputs": [],
   "source": [
    "def calculate_gini(df_label):\n",
    "\tclasses, counts = np.unique(df_label, return_counts=True)\n",
    "\treturn 1 - np.sum([\n",
    "\t\t(counts[i] / np.sum(counts)) ** 2 for i in range(len(classes))\n",
    "\t])"
   ]
  },
  {
   "cell_type": "markdown",
   "metadata": {},
   "source": [
    "\\begin{align}\n",
    "E(S) = \\sum_{i=1}^{c}-p_i\\log_2p_i\n",
    "\\end{align}"
   ]
  },
  {
   "cell_type": "code",
   "execution_count": 46,
   "metadata": {},
   "outputs": [],
   "source": [
    "def calculate_entropy(df_label):\n",
    "\tclasses, counts = np.unique(df_label, return_counts=True)\n",
    "\treturn np.sum([\n",
    "\t\t(-counts[i] / np.sum(counts)) * np.log2(counts[i] / np.sum(counts))\n",
    "\t\tfor i in range(len(classes))\n",
    "\t])"
   ]
  },
  {
   "cell_type": "markdown",
   "metadata": {
    "id": "smlCF-wbn16d"
   },
   "source": [
    "\\begin{align}\n",
    "Gain(T,X) = Entropy(T) - Entropy(T,X)\n",
    "\\end{align}"
   ]
  },
  {
   "cell_type": "code",
   "execution_count": 47,
   "metadata": {},
   "outputs": [],
   "source": [
    "def calculate_information_gain(dataset: pd.DataFrame, feature: Any, label: str, criteria: IG_CRITERION = \"entropy\"):\n",
    "\tentropy = calculate_entropy(dataset[label])\n",
    "\tfeatures, counts = np.unique(dataset[feature], return_counts=True)\n",
    "\n",
    "\tweighted_feature_entropy = np.sum([\n",
    "\t\t(counts[i] / np.sum(counts)) * globals()[\"calculate_\" + criteria](\n",
    "\t\t\tdataset.where(dataset[feature] == features[i]).dropna()[label]\n",
    "\t\t) for i in range(len(features))\n",
    "\t])\n",
    "\n",
    "\treturn entropy - weighted_feature_entropy"
   ]
  },
  {
   "cell_type": "code",
   "execution_count": 48,
   "metadata": {},
   "outputs": [],
   "source": [
    "def create_decision_tree(sub_df: pd.DataFrame, df: pd.DataFrame, features: pd.Index, label: str, parent: Any, criteria: IG_CRITERION = \"entropy\"):\n",
    "\n",
    "\tdatum = np.unique(df[label], return_counts=True)\n",
    "\tunique_data = np.unique(sub_df[label])\n",
    "\n",
    "\tif len(unique_data) <= 1:\n",
    "\t\treturn unique_data[0]\n",
    "\n",
    "\tif len(sub_df) == 0:\n",
    "\t\treturn unique_data[np.argmax(datum[1])]\n",
    "\n",
    "\tif len(features) == 0:\n",
    "\t\treturn parent\n",
    "\n",
    "\tparent = unique_data[np.argmax(datum[1])]\n",
    "\t\n",
    "\tgain_values = [calculate_information_gain(sub_df, feature, label, criteria) for feature in features]\n",
    "\n",
    "\toptimum_feature_index = np.argmax(gain_values)\n",
    "\toptimum_feature = features[optimum_feature_index]\n",
    "\tdecision_tree = {optimum_feature: {}}\n",
    "\tsub_features = [i for i in features if i != optimum_feature]\n",
    "\n",
    "\tfor value in np.unique(sub_df[optimum_feature]):\n",
    "\t\tsub_data = sub_df.where(sub_df[optimum_feature] == value).dropna()\n",
    "\n",
    "\t\tmin_tree = create_decision_tree(sub_data, df, sub_features, label, parent, criteria)\n",
    "\n",
    "\t\tdecision_tree[optimum_feature][value] = min_tree\n",
    "\t\n",
    "\treturn decision_tree"
   ]
  },
  {
   "cell_type": "code",
   "execution_count": 49,
   "metadata": {},
   "outputs": [],
   "source": [
    "def predict(decision_tree: dict[Hashable, dict], test_data: pd.Series):\n",
    "\tprediction:int = 0\n",
    "\t\n",
    "\tfor nodes in decision_tree.keys():\n",
    "\t\tvalue = test_data[nodes]\n",
    "\t\tdecision_tree = decision_tree[nodes][value]\n",
    "\n",
    "\t\tif isinstance(decision_tree, dict):\n",
    "\t\t\tprediction = predict(decision_tree, test_data)\n",
    "\t\telse:\n",
    "\t\t\tprediction = decision_tree\n",
    "\t\t\tbreak\n",
    "\t\n",
    "\treturn prediction\n"
   ]
  },
  {
   "cell_type": "markdown",
   "metadata": {},
   "source": [
    "### Testing"
   ]
  },
  {
   "cell_type": "code",
   "execution_count": 50,
   "metadata": {},
   "outputs": [],
   "source": [
    "raw_train_data = [\n",
    "    ['<21', 'High', 'Male', 'Single', 'No'],\n",
    "    ['<21', 'High', 'Male', 'Married', 'No'],\n",
    "    ['21-35', 'High', 'Male', 'Single', 'Yes'],\n",
    "    ['>35', 'Medium', 'Male', 'Single', 'Yes'],\n",
    "    ['>35', 'Low', 'Female', 'Single', 'Yes'],\n",
    "    ['>35', 'Low', 'Female', 'Married', 'No'],\n",
    "    ['21-35', 'Low', 'Female', 'Married', 'Yes'],\n",
    "    ['<21', 'Medium', 'Male', 'Single', 'No'],\n",
    "    ['<21', 'Low', 'Female', 'Married', 'Yes'],\n",
    "    ['>35', 'Medium', 'Female', 'Single', 'Yes'],\n",
    "    ['<21', 'Medium', 'Female', 'Married', 'Yes'],\n",
    "    ['21-35', 'Medium', 'Male', 'Married', 'Yes'],\n",
    "    ['21-35', 'High', 'Female', 'Single', 'Yes'],\n",
    "    ['>35', 'Medium', 'Male', 'Married', 'No']\n",
    "]\n",
    "columns = ['Age', 'Income', 'Gender', 'Marital Status', 'Buys']\n",
    "raw_test_data = raw_train_data.pop(8)"
   ]
  },
  {
   "cell_type": "code",
   "execution_count": 51,
   "metadata": {},
   "outputs": [
    {
     "data": {
      "text/html": [
       "<div>\n",
       "<style scoped>\n",
       "    .dataframe tbody tr th:only-of-type {\n",
       "        vertical-align: middle;\n",
       "    }\n",
       "\n",
       "    .dataframe tbody tr th {\n",
       "        vertical-align: top;\n",
       "    }\n",
       "\n",
       "    .dataframe thead th {\n",
       "        text-align: right;\n",
       "    }\n",
       "</style>\n",
       "<table border=\"1\" class=\"dataframe\">\n",
       "  <thead>\n",
       "    <tr style=\"text-align: right;\">\n",
       "      <th></th>\n",
       "      <th>Age</th>\n",
       "      <th>Income</th>\n",
       "      <th>Gender</th>\n",
       "      <th>Marital Status</th>\n",
       "      <th>Buys</th>\n",
       "    </tr>\n",
       "  </thead>\n",
       "  <tbody>\n",
       "    <tr>\n",
       "      <th>0</th>\n",
       "      <td>&lt;21</td>\n",
       "      <td>High</td>\n",
       "      <td>Male</td>\n",
       "      <td>Single</td>\n",
       "      <td>No</td>\n",
       "    </tr>\n",
       "    <tr>\n",
       "      <th>1</th>\n",
       "      <td>&lt;21</td>\n",
       "      <td>High</td>\n",
       "      <td>Male</td>\n",
       "      <td>Married</td>\n",
       "      <td>No</td>\n",
       "    </tr>\n",
       "    <tr>\n",
       "      <th>2</th>\n",
       "      <td>21-35</td>\n",
       "      <td>High</td>\n",
       "      <td>Male</td>\n",
       "      <td>Single</td>\n",
       "      <td>Yes</td>\n",
       "    </tr>\n",
       "    <tr>\n",
       "      <th>3</th>\n",
       "      <td>&gt;35</td>\n",
       "      <td>Medium</td>\n",
       "      <td>Male</td>\n",
       "      <td>Single</td>\n",
       "      <td>Yes</td>\n",
       "    </tr>\n",
       "    <tr>\n",
       "      <th>4</th>\n",
       "      <td>&gt;35</td>\n",
       "      <td>Low</td>\n",
       "      <td>Female</td>\n",
       "      <td>Single</td>\n",
       "      <td>Yes</td>\n",
       "    </tr>\n",
       "  </tbody>\n",
       "</table>\n",
       "</div>"
      ],
      "text/plain": [
       "     Age  Income  Gender Marital Status Buys\n",
       "0    <21    High    Male         Single   No\n",
       "1    <21    High    Male        Married   No\n",
       "2  21-35    High    Male         Single  Yes\n",
       "3    >35  Medium    Male         Single  Yes\n",
       "4    >35     Low  Female         Single  Yes"
      ]
     },
     "execution_count": 51,
     "metadata": {},
     "output_type": "execute_result"
    }
   ],
   "source": [
    "train_data = pd.DataFrame(raw_train_data, columns=columns) # or pd.read_csv, whichever is availbable\n",
    "train_data.head()"
   ]
  },
  {
   "cell_type": "code",
   "execution_count": 52,
   "metadata": {},
   "outputs": [
    {
     "data": {
      "text/plain": [
       "Age                   <21\n",
       "Income                Low\n",
       "Gender             Female\n",
       "Marital Status    Married\n",
       "dtype: object"
      ]
     },
     "execution_count": 52,
     "metadata": {},
     "output_type": "execute_result"
    }
   ],
   "source": [
    "test_data = pd.Series(raw_test_data[:-1], index=columns[:-1])\n",
    "test_data"
   ]
  },
  {
   "cell_type": "code",
   "execution_count": 53,
   "metadata": {},
   "outputs": [
    {
     "data": {
      "text/plain": [
       "{'Age': {'21-35': 'Yes',\n",
       "  '<21': {'Gender': {'Female': 'Yes', 'Male': 'No'}},\n",
       "  '>35': {'Marital Status': {'Married': 'No', 'Single': 'Yes'}}}}"
      ]
     },
     "execution_count": 53,
     "metadata": {},
     "output_type": "execute_result"
    }
   ],
   "source": [
    "features = train_data.columns[:-1]\n",
    "decision_tree = create_decision_tree(train_data, train_data, features, 'Buys', None, \"entropy\")\n",
    "decision_tree"
   ]
  },
  {
   "cell_type": "code",
   "execution_count": 54,
   "metadata": {},
   "outputs": [
    {
     "data": {
      "text/plain": [
       "'Yes'"
      ]
     },
     "execution_count": 54,
     "metadata": {},
     "output_type": "execute_result"
    }
   ],
   "source": [
    "\n",
    "prediction = predict(decision_tree, test_data)\n",
    "prediction"
   ]
  }
 ],
 "metadata": {
  "interpreter": {
   "hash": "81794d4967e6c3204c66dcd87b604927b115b27c00565d3d43f05ba2f3a2cb0d"
  },
  "kernelspec": {
   "display_name": "Python 3.9.6 64-bit",
   "language": "python",
   "name": "python3"
  },
  "language_info": {
   "codemirror_mode": {
    "name": "ipython",
    "version": 3
   },
   "file_extension": ".py",
   "mimetype": "text/x-python",
   "name": "python",
   "nbconvert_exporter": "python",
   "pygments_lexer": "ipython3",
   "version": "3.9.6"
  },
  "orig_nbformat": 4
 },
 "nbformat": 4,
 "nbformat_minor": 2
}
