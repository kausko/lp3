{
  "cells": [
    {
      "cell_type": "markdown",
      "metadata": {
        "id": "bYRROTfglvmr"
      },
      "source": [
        "K-NN Classification Implementation"
      ]
    },
    {
      "cell_type": "markdown",
      "metadata": {
        "id": "wZ2ozK39uHIF"
      },
      "source": [
        "In the following diagram let blue circles indicate positive examples and orange squares indicate negative examples. We want to use k-NN algorithm for classifying the points. If k=3, find the class of the point (6,6). Extend the same example for Distance-Weighted k-NN and Locally weighted Averaging."
      ]
    },
    {
      "cell_type": "code",
      "execution_count": 1,
      "metadata": {
        "id": "OPCgGbC5uHIG"
      },
      "outputs": [],
      "source": [
        "import math\n",
        "import pandas as pd"
      ]
    },
    {
      "cell_type": "code",
      "execution_count": 2,
      "metadata": {
        "id": "nshc_2gruHIH"
      },
      "outputs": [],
      "source": [
        "xdata=[2,4,4,4,6,6]\n",
        "ydata=[4,2,4,6,2,4]\n",
        "res  =[0,0,1,0,1,0]"
      ]
    },
    {
      "cell_type": "code",
      "execution_count": 3,
      "metadata": {
        "id": "hVLyRt8GZFfL"
      },
      "outputs": [],
      "source": [
        "def knn_classification(xtest, ytest):\n",
        "    for i in range(len(xtest)):\n",
        "        for j in range(len(xtrain)):\n",
        "            xd=(xtest[i]-xtrain[j])**2\n",
        "            yd=(ytest[i]-ytrain[j])**2\n",
        "            d=math.sqrt(xd+yd)\n",
        "            row=(xtest[i],ytest[i],xtrain[j],ytrain[j],trainclass[j],d)\n",
        "            distances.append(row)\n",
        "    \n",
        "        l=[x[5] for x in distances if distances[0]==xtest[0] and distances[1]==ytest[0]]\n",
        "        l.sort()\n",
        "        \n",
        "        topclasses=list(l)\n",
        "        topclasses=topclasses[:k]\n",
        "        pos=topclasses.count(1)\n",
        "        neg=topclasses.count(0)\n",
        "    \n",
        "        cl=-1\n",
        "        if pos>=neg:\n",
        "            cl=1\n",
        "        else:\n",
        "            cl=0\n",
        "        \n",
        "        predclass.append(cl)\n",
        "        print(\"Prediction for (\"+str(xtest[i])+\",\"+str(ytest[i])+\"):\",cl)"
      ]
    },
    {
      "cell_type": "code",
      "execution_count": 4,
      "metadata": {
        "colab": {
          "base_uri": "https://localhost:8080/"
        },
        "id": "ZVowqEJKuHIJ",
        "outputId": "84038632-cb90-438b-b359-6083d54ca3bb"
      },
      "outputs": [
        {
          "output_type": "stream",
          "name": "stdout",
          "text": [
            "Prediction for (6,2): 1\n",
            "Prediction for (6,4): 1\n"
          ]
        }
      ],
      "source": [
        "k=3\n",
        "predclass=list()\n",
        "distances=list()\n",
        "\n",
        "xtrain=xdata[:4]\n",
        "ytrain=ydata[:4]\n",
        "xtest=xdata[4:]\n",
        "ytest=ydata[4:]\n",
        "\n",
        "trainclass=res[:4]\n",
        "testclass=res[4:]\n",
        "\n",
        "knn_classification(xtest, ytest)"
      ]
    },
    {
      "cell_type": "code",
      "execution_count": 5,
      "metadata": {
        "colab": {
          "base_uri": "https://localhost:8080/"
        },
        "id": "QXFPqG0tuHIK",
        "outputId": "f299e347-1ccf-40b4-b980-cb506850c33a"
      },
      "outputs": [
        {
          "output_type": "stream",
          "name": "stdout",
          "text": [
            "Accuracy Score: 0.5\n"
          ]
        }
      ],
      "source": [
        "hit=0\n",
        "for i in range(len(testclass)):\n",
        "    if testclass[i]==predclass[i]:\n",
        "        hit=hit+1\n",
        "\n",
        "n=len(testclass)\n",
        "acc=hit/n\n",
        "print(\"Accuracy Score:\",acc)"
      ]
    },
    {
      "cell_type": "markdown",
      "metadata": {
        "id": "ZxT_O8t6l1VT"
      },
      "source": [
        "K-NN Classification for (6,6)"
      ]
    },
    {
      "cell_type": "code",
      "execution_count": 6,
      "metadata": {
        "colab": {
          "base_uri": "https://localhost:8080/"
        },
        "id": "hGwrNViykXlH",
        "outputId": "412eba27-0ead-4cc0-af12-c7d4ba01e8b1"
      },
      "outputs": [
        {
          "output_type": "stream",
          "name": "stdout",
          "text": [
            "Prediction for (6,6): Can be 0 or 1\n"
          ]
        }
      ],
      "source": [
        "xtest=[6]\n",
        "ytest=[6]\n",
        "k=3\n",
        "distances=list()\n",
        "\n",
        "for i in range(len(xtest)):\n",
        "    for j in range(len(xtrain)):\n",
        "        xd=(xtest[i]-xtrain[j])**2\n",
        "        yd=(ytest[i]-ytrain[j])**2\n",
        "        d=math.sqrt(xd+yd)\n",
        "        row=(xtest[i],ytest[i],xtrain[j],ytrain[j],trainclass[j],d)\n",
        "    distances.append(row)\n",
        "\n",
        "    l=[x[5] for x in distances if distances[0]==xtest[0] and distances[1]==ytest[0]]\n",
        "    l.sort()\n",
        "    \n",
        "    topclasses=list(l)    \n",
        "    topclasses=topclasses[:k]\n",
        "    pos=topclasses.count(1)\n",
        "    neg=topclasses.count(0) \n",
        "    \n",
        "    cl=-1\n",
        "    if pos>neg:\n",
        "        cl=1\n",
        "    elif pos<neg:\n",
        "        cl=0\n",
        "    else:\n",
        "        cl=\"Can be 0 or 1\"\n",
        "\n",
        "    print(\"Prediction for (\"+str(xtest[i])+\",\"+str(ytest[i])+\"):\",cl)"
      ]
    },
    {
      "cell_type": "markdown",
      "metadata": {
        "id": "NYU-9DQAl9Kl"
      },
      "source": [
        "Weighted K-NN Classification"
      ]
    },
    {
      "cell_type": "code",
      "execution_count": 7,
      "metadata": {
        "id": "Uzr0cad_uHIN"
      },
      "outputs": [],
      "source": [
        "import math\n",
        "\n",
        "xdata=[2,4,4,4,6,6]\n",
        "ydata=[4,2,4,6,2,4]\n",
        "res  =[0,0,1,0,1,0]\n",
        "\n",
        "data=[[2,4,0],[4,2,0],[4,4,1],[4,6,0],[6,2,1],[6,4,0]]\n",
        "df=pd.DataFrame(data,columns=['X-Coordinate','Y-Coordinate','Class'])\n",
        "\n",
        "xtrain=xdata[:4]\n",
        "ytrain=ydata[:4]\n",
        "xtest=xdata[4:]\n",
        "ytest=ydata[4:]\n",
        "trainclass=res[:4]\n",
        "testclass=res[4:]"
      ]
    },
    {
      "cell_type": "code",
      "execution_count": 8,
      "metadata": {
        "colab": {
          "base_uri": "https://localhost:8080/"
        },
        "id": "UZZtlkJ_l8rK",
        "outputId": "a22050e9-77e4-4edb-d8d2-9ff1ac4a2288"
      },
      "outputs": [
        {
          "output_type": "stream",
          "name": "stdout",
          "text": [
            "Prediction for (6,2): 0\n",
            "Prediction for (6,4): 0\n",
            "Accuracy Score: 0.5\n"
          ]
        }
      ],
      "source": [
        "k=3\n",
        "predclass=list()\n",
        "distances=list()\n",
        "for i in range(len(xtest)):\n",
        "    for j in range(len(xtrain)):\n",
        "        xd=(xtest[i]-xtrain[j])**2\n",
        "        yd=(ytest[i]-ytrain[j])**2\n",
        "        d=math.sqrt(xd+yd)\n",
        "        row=(d,trainclass[j])\n",
        "        distances.append(row)\n",
        "    distances = sorted(distances)[:k] \n",
        "\n",
        "    freq1=0\n",
        "    freq2=0\n",
        "\n",
        "    for d in distances:\n",
        "        if d[1]==0:\n",
        "            freq1=freq1+(1/d[0])\n",
        "        else:\n",
        "            freq2=freq2+(1/d[0])\n",
        "    \n",
        "    if freq1>freq2:\n",
        "        cl=0\n",
        "    else:\n",
        "        cl=1\n",
        "        \n",
        "    predclass.append(cl)\n",
        "    print(\"Prediction for (\"+str(xtest[i])+\",\"+str(ytest[i])+\"):\",cl)\n",
        "\n",
        "hit=0\n",
        "for i in range(len(testclass)):\n",
        "    if testclass[i]==predclass[i]:\n",
        "        hit=hit+1\n",
        "\n",
        "n=len(testclass)\n",
        "acc=hit/n\n",
        "print(\"Accuracy Score:\",acc)"
      ]
    },
    {
      "cell_type": "markdown",
      "metadata": {
        "id": "sC9xM0bppBqa"
      },
      "source": [
        "Weighted K-NN Classification for (6,6)"
      ]
    },
    {
      "cell_type": "code",
      "execution_count": 9,
      "metadata": {
        "colab": {
          "base_uri": "https://localhost:8080/"
        },
        "id": "2VvoeDk3oupt",
        "outputId": "54afd481-3279-4bd9-98ff-13aafe4302cf"
      },
      "outputs": [
        {
          "output_type": "stream",
          "name": "stdout",
          "text": [
            "0.7236067977499789 0.35355339059327373\n",
            "Prediction for (6,6): 0\n"
          ]
        }
      ],
      "source": [
        "xtest=[6]\n",
        "ytest=[6]\n",
        "k=3\n",
        "distances=list()\n",
        "for i in range(len(xtest)):\n",
        "    for j in range(len(xtrain)):\n",
        "        xd=(xtest[i]-xtrain[j])**2\n",
        "        yd=(ytest[i]-ytrain[j])**2\n",
        "        d=math.sqrt(xd+yd)\n",
        "        row=(d,trainclass[j])\n",
        "        distances.append(row)\n",
        "    distances = sorted(distances)[:k] \n",
        "    \n",
        "    freq1=0\n",
        "    freq2=0\n",
        "    \n",
        "    for d in distances:\n",
        "        if d[1]==0:\n",
        "            freq1=freq1+(1/d[0])\n",
        "        else:\n",
        "            freq2=freq2+(1/d[0])\n",
        "    \n",
        "    if freq1>freq2:\n",
        "        cl=0\n",
        "    else:\n",
        "        cl=1\n",
        "        \n",
        "    print(freq1,freq2)\n",
        "    print(\"Prediction for (\"+str(xtest[i])+\",\"+str(ytest[i])+\"):\",cl)"
      ]
    },
    {
      "cell_type": "markdown",
      "metadata": {
        "id": "0kncpHWlpVuV"
      },
      "source": [
        "K-NN Classification using Scikit-learn"
      ]
    },
    {
      "cell_type": "code",
      "execution_count": 10,
      "metadata": {
        "colab": {
          "base_uri": "https://localhost:8080/",
          "height": 238
        },
        "id": "XFq8xdI_OWD4",
        "outputId": "c6771b3d-b64c-4821-af42-c633c4e818a6"
      },
      "outputs": [
        {
          "output_type": "execute_result",
          "data": {
            "text/plain": [
              "   X-Coordinate  Y-Coordinate  Class\n",
              "0             2             4      0\n",
              "1             4             2      0\n",
              "2             4             4      1\n",
              "3             4             6      0\n",
              "4             6             2      1\n",
              "5             6             4      0"
            ],
            "text/html": [
              "\n",
              "  <div id=\"df-a5c7c3ff-836e-45e2-bd83-2ef50e357d36\">\n",
              "    <div class=\"colab-df-container\">\n",
              "      <div>\n",
              "<style scoped>\n",
              "    .dataframe tbody tr th:only-of-type {\n",
              "        vertical-align: middle;\n",
              "    }\n",
              "\n",
              "    .dataframe tbody tr th {\n",
              "        vertical-align: top;\n",
              "    }\n",
              "\n",
              "    .dataframe thead th {\n",
              "        text-align: right;\n",
              "    }\n",
              "</style>\n",
              "<table border=\"1\" class=\"dataframe\">\n",
              "  <thead>\n",
              "    <tr style=\"text-align: right;\">\n",
              "      <th></th>\n",
              "      <th>X-Coordinate</th>\n",
              "      <th>Y-Coordinate</th>\n",
              "      <th>Class</th>\n",
              "    </tr>\n",
              "  </thead>\n",
              "  <tbody>\n",
              "    <tr>\n",
              "      <th>0</th>\n",
              "      <td>2</td>\n",
              "      <td>4</td>\n",
              "      <td>0</td>\n",
              "    </tr>\n",
              "    <tr>\n",
              "      <th>1</th>\n",
              "      <td>4</td>\n",
              "      <td>2</td>\n",
              "      <td>0</td>\n",
              "    </tr>\n",
              "    <tr>\n",
              "      <th>2</th>\n",
              "      <td>4</td>\n",
              "      <td>4</td>\n",
              "      <td>1</td>\n",
              "    </tr>\n",
              "    <tr>\n",
              "      <th>3</th>\n",
              "      <td>4</td>\n",
              "      <td>6</td>\n",
              "      <td>0</td>\n",
              "    </tr>\n",
              "    <tr>\n",
              "      <th>4</th>\n",
              "      <td>6</td>\n",
              "      <td>2</td>\n",
              "      <td>1</td>\n",
              "    </tr>\n",
              "    <tr>\n",
              "      <th>5</th>\n",
              "      <td>6</td>\n",
              "      <td>4</td>\n",
              "      <td>0</td>\n",
              "    </tr>\n",
              "  </tbody>\n",
              "</table>\n",
              "</div>\n",
              "      <button class=\"colab-df-convert\" onclick=\"convertToInteractive('df-a5c7c3ff-836e-45e2-bd83-2ef50e357d36')\"\n",
              "              title=\"Convert this dataframe to an interactive table.\"\n",
              "              style=\"display:none;\">\n",
              "        \n",
              "  <svg xmlns=\"http://www.w3.org/2000/svg\" height=\"24px\"viewBox=\"0 0 24 24\"\n",
              "       width=\"24px\">\n",
              "    <path d=\"M0 0h24v24H0V0z\" fill=\"none\"/>\n",
              "    <path d=\"M18.56 5.44l.94 2.06.94-2.06 2.06-.94-2.06-.94-.94-2.06-.94 2.06-2.06.94zm-11 1L8.5 8.5l.94-2.06 2.06-.94-2.06-.94L8.5 2.5l-.94 2.06-2.06.94zm10 10l.94 2.06.94-2.06 2.06-.94-2.06-.94-.94-2.06-.94 2.06-2.06.94z\"/><path d=\"M17.41 7.96l-1.37-1.37c-.4-.4-.92-.59-1.43-.59-.52 0-1.04.2-1.43.59L10.3 9.45l-7.72 7.72c-.78.78-.78 2.05 0 2.83L4 21.41c.39.39.9.59 1.41.59.51 0 1.02-.2 1.41-.59l7.78-7.78 2.81-2.81c.8-.78.8-2.07 0-2.86zM5.41 20L4 18.59l7.72-7.72 1.47 1.35L5.41 20z\"/>\n",
              "  </svg>\n",
              "      </button>\n",
              "      \n",
              "  <style>\n",
              "    .colab-df-container {\n",
              "      display:flex;\n",
              "      flex-wrap:wrap;\n",
              "      gap: 12px;\n",
              "    }\n",
              "\n",
              "    .colab-df-convert {\n",
              "      background-color: #E8F0FE;\n",
              "      border: none;\n",
              "      border-radius: 50%;\n",
              "      cursor: pointer;\n",
              "      display: none;\n",
              "      fill: #1967D2;\n",
              "      height: 32px;\n",
              "      padding: 0 0 0 0;\n",
              "      width: 32px;\n",
              "    }\n",
              "\n",
              "    .colab-df-convert:hover {\n",
              "      background-color: #E2EBFA;\n",
              "      box-shadow: 0px 1px 2px rgba(60, 64, 67, 0.3), 0px 1px 3px 1px rgba(60, 64, 67, 0.15);\n",
              "      fill: #174EA6;\n",
              "    }\n",
              "\n",
              "    [theme=dark] .colab-df-convert {\n",
              "      background-color: #3B4455;\n",
              "      fill: #D2E3FC;\n",
              "    }\n",
              "\n",
              "    [theme=dark] .colab-df-convert:hover {\n",
              "      background-color: #434B5C;\n",
              "      box-shadow: 0px 1px 3px 1px rgba(0, 0, 0, 0.15);\n",
              "      filter: drop-shadow(0px 1px 2px rgba(0, 0, 0, 0.3));\n",
              "      fill: #FFFFFF;\n",
              "    }\n",
              "  </style>\n",
              "\n",
              "      <script>\n",
              "        const buttonEl =\n",
              "          document.querySelector('#df-a5c7c3ff-836e-45e2-bd83-2ef50e357d36 button.colab-df-convert');\n",
              "        buttonEl.style.display =\n",
              "          google.colab.kernel.accessAllowed ? 'block' : 'none';\n",
              "\n",
              "        async function convertToInteractive(key) {\n",
              "          const element = document.querySelector('#df-a5c7c3ff-836e-45e2-bd83-2ef50e357d36');\n",
              "          const dataTable =\n",
              "            await google.colab.kernel.invokeFunction('convertToInteractive',\n",
              "                                                     [key], {});\n",
              "          if (!dataTable) return;\n",
              "\n",
              "          const docLinkHtml = 'Like what you see? Visit the ' +\n",
              "            '<a target=\"_blank\" href=https://colab.research.google.com/notebooks/data_table.ipynb>data table notebook</a>'\n",
              "            + ' to learn more about interactive tables.';\n",
              "          element.innerHTML = '';\n",
              "          dataTable['output_type'] = 'display_data';\n",
              "          await google.colab.output.renderOutput(dataTable, element);\n",
              "          const docLink = document.createElement('div');\n",
              "          docLink.innerHTML = docLinkHtml;\n",
              "          element.appendChild(docLink);\n",
              "        }\n",
              "      </script>\n",
              "    </div>\n",
              "  </div>\n",
              "  "
            ]
          },
          "metadata": {},
          "execution_count": 10
        }
      ],
      "source": [
        "import pandas as pd\n",
        "\n",
        "data=[[2,4,0],[4,2,0],[4,4,1],[4,6,0],[6,2,1],[6,4,0]]\n",
        "df=pd.DataFrame(data,columns=['X-Coordinate','Y-Coordinate','Class'])\n",
        "df\n",
        "\n",
        "#1 indicates Positive Samples and 0 indicates negative samples"
      ]
    },
    {
      "cell_type": "code",
      "execution_count": 11,
      "metadata": {
        "id": "SfkPeOJWuHIP"
      },
      "outputs": [],
      "source": [
        "import numpy as np\n",
        "from sklearn.model_selection import train_test_split\n",
        "from sklearn.neighbors import KNeighborsClassifier\n",
        "from sklearn.metrics import accuracy_score"
      ]
    },
    {
      "cell_type": "code",
      "execution_count": 12,
      "metadata": {
        "colab": {
          "base_uri": "https://localhost:8080/"
        },
        "id": "IDk6l7gxQwUj",
        "outputId": "ae758968-ecf4-4246-dfb7-78db77af857a"
      },
      "outputs": [
        {
          "output_type": "stream",
          "name": "stdout",
          "text": [
            "Accuracy: 0.5\n",
            "Prediction for sample (6,6): [0]\n"
          ]
        },
        {
          "output_type": "stream",
          "name": "stderr",
          "text": [
            "/usr/local/lib/python3.7/dist-packages/sklearn/base.py:451: UserWarning: X does not have valid feature names, but KNeighborsClassifier was fitted with feature names\n",
            "  \"X does not have valid feature names, but\"\n"
          ]
        }
      ],
      "source": [
        "X=df.drop('Class',axis=1)\n",
        "y=df.Class\n",
        "\n",
        "X_train, X_test, y_train, y_test = train_test_split(X,y,test_size=0.2,random_state=42)\n",
        "\n",
        "knn = KNeighborsClassifier(n_neighbors=3)\n",
        "knn.fit(X_train,y_train)\n",
        "\n",
        "ypred1 = knn.predict(X_test)\n",
        "accuracy1=accuracy_score(ypred1,y_test)\n",
        "print(\"Accuracy:\",accuracy_score(ypred1,y_test))\n",
        "\n",
        "test=np.array([6,6])\n",
        "pred=knn.predict(test.reshape(1,-1))\n",
        "print(\"Prediction for sample (6,6):\",pred)"
      ]
    },
    {
      "cell_type": "markdown",
      "metadata": {
        "id": "eLoaUdPepbHo"
      },
      "source": [
        "Weighted K-NN Classification for K-NN"
      ]
    },
    {
      "cell_type": "code",
      "execution_count": 13,
      "metadata": {
        "colab": {
          "base_uri": "https://localhost:8080/"
        },
        "id": "G8tL32hiTJRg",
        "outputId": "d625fdff-ea10-4d13-af3f-33796bc8726a"
      },
      "outputs": [
        {
          "output_type": "stream",
          "name": "stdout",
          "text": [
            "Accuracy: 1.0\n",
            "Prediction for sample (6,6): [0]\n"
          ]
        },
        {
          "output_type": "stream",
          "name": "stderr",
          "text": [
            "/usr/local/lib/python3.7/dist-packages/sklearn/base.py:451: UserWarning: X does not have valid feature names, but KNeighborsClassifier was fitted with feature names\n",
            "  \"X does not have valid feature names, but\"\n"
          ]
        }
      ],
      "source": [
        "distanceknn = KNeighborsClassifier(n_neighbors=3,weights='distance')\n",
        "distanceknn.fit(X,y)\n",
        "\n",
        "ypred2 = distanceknn.predict(X_test)\n",
        "accuracy2=accuracy_score(ypred2,y_test)\n",
        "print(\"Accuracy:\",accuracy_score(ypred2,y_test))\n",
        "\n",
        "test=np.array([6,6])\n",
        "ypred=distanceknn.predict(test.reshape(1,-1))\n",
        "print(\"Prediction for sample (6,6):\",ypred)"
      ]
    },
    {
      "cell_type": "markdown",
      "metadata": {
        "id": "aS8KCnIape6A"
      },
      "source": [
        "Weighted Average Accuracy"
      ]
    },
    {
      "cell_type": "code",
      "execution_count": 14,
      "metadata": {
        "colab": {
          "base_uri": "https://localhost:8080/"
        },
        "id": "OQHpDqM3XDS1",
        "outputId": "b43094a8-f36d-480d-83ae-45412cd7054d"
      },
      "outputs": [
        {
          "output_type": "stream",
          "name": "stdout",
          "text": [
            "Average Accuracy: 0.75\n",
            "Weighted average Accuracy: 0.8\n"
          ]
        }
      ],
      "source": [
        "averagepred=((0.5*accuracy1+0.5*accuracy2))\n",
        "print(\"Average Accuracy:\",averagepred)\n",
        "\n",
        "averagepred=((0.4*accuracy1+0.6*accuracy2))\n",
        "print(\"Weighted average Accuracy:\",averagepred)"
      ]
    }
  ],
  "metadata": {
    "colab": {
      "name": "ML3",
      "provenance": [],
      "toc_visible": true
    },
    "kernelspec": {
      "display_name": "Python 3",
      "language": "python",
      "name": "python3"
    },
    "language_info": {
      "codemirror_mode": {
        "name": "ipython",
        "version": 3
      },
      "file_extension": ".py",
      "mimetype": "text/x-python",
      "name": "python",
      "nbconvert_exporter": "python",
      "pygments_lexer": "ipython3",
      "version": "3.8.4"
    }
  },
  "nbformat": 4,
  "nbformat_minor": 0
}