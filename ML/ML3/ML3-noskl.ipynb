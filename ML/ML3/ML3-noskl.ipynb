{
  "cells": [
    {
      "cell_type": "markdown",
      "metadata": {},
      "source": [
        "# k-NN Classification"
      ]
    },
    {
      "cell_type": "markdown",
      "metadata": {
        "id": "BhxlkOWILpm9"
      },
      "source": [
        "In the following diagram let blue circles indicate positive examples and orange squares indicate negative examples. We want to use k-NN algorithm for classifying the points. If k=3, find the class of the point (6,6). Extend the same example for Distance-Weighted k-NN and Locally weighted Averaging."
      ]
    },
    {
      "cell_type": "code",
      "execution_count": null,
      "metadata": {
        "id": "ENYh4hTOLwOf"
      },
      "outputs": [],
      "source": [
        "import math"
      ]
    },
    {
      "cell_type": "code",
      "execution_count": null,
      "metadata": {
        "id": "dv1sFHsJL9Zq"
      },
      "outputs": [],
      "source": [
        "x_train = [[2 ,4], [4, 4], [4, 6], [4, 2], [6, 2], [6, 4]]\n",
        "y_train = [\"Orange\", \"Blue\", \"Orange\", \"Orange\", \"Blue\", \"Orange\"]\n",
        "test_data = [[6,6]]"
      ]
    },
    {
      "cell_type": "code",
      "execution_count": null,
      "metadata": {
        "id": "n0l3gMgYMzHI"
      },
      "outputs": [],
      "source": [
        "class KNN:\n",
        "  def __init__(self, k:int = 2, algorithm = 'auto'):\n",
        "    self.k = k\n",
        "    self.x = []\n",
        "    self.y = []\n",
        "    self.algorithm = algorithm\n",
        "  \n",
        "  def fit(self, x, y):\n",
        "    self.x, self.y = x, y\n",
        "\n",
        "  def get_distance(self, p1, p2):\n",
        "    x1, y1 = p1\n",
        "    x2, y2 = p2\n",
        "    return math.sqrt(\n",
        "        (x1-x2)**2 + (y2-y1)**2\n",
        "    )\n",
        "\n",
        "  def auto_knn(self, test, distances):\n",
        "    return max((distances), key = lambda tup: tup[1])[1]\n",
        "\n",
        "  def weighted_knn(self, test, distances, local: bool = False):\n",
        "    frequencies = {}\n",
        "    weights = {}\n",
        "\n",
        "    for d in distances:\n",
        "      weights[d[1]] = weights.get(d[1], 0.0) + float(1/d[0])\n",
        "      frequencies[d[1]] = frequencies.get(d[1], 0) + 1\n",
        "    \n",
        "    if local:\n",
        "      for w in weights:\n",
        "        weights[w] /= frequencies[w]\n",
        "    \n",
        "    return max((weights), key = lambda x: weights[x])\n",
        "\n",
        "  \n",
        "  def distance_weighted_knn(self, test, distances):\n",
        "    return self.weighted_knn(test, distances)\n",
        "\n",
        "  def locally_weighted_averaging_knn(self, test, distances):\n",
        "    return self.weighted_knn(test, distances, local=True)\n",
        "\n",
        "  def predict(self, tests):\n",
        "    results = []\n",
        "    \n",
        "    for test in tests:\n",
        "      distances = []\n",
        "      \n",
        "      for i in range(len(self.x)):\n",
        "        distances.append([\n",
        "                          self.get_distance(self.x[i], test),\n",
        "                          self.y[i]\n",
        "        ])\n",
        "      \n",
        "      distances.sort(key = lambda tup: tup[0])\n",
        "      distances = distances[:self.k]\n",
        "      print(\"Nearest Neighbors: \", distances)\n",
        "\n",
        "      results.append(\n",
        "        # Calls the _knn functions in this class\n",
        "          getattr(self, self.algorithm + '_knn')(test, distances)\n",
        "      )\n",
        "    \n",
        "    return results\n",
        "\n"
      ]
    },
    {
      "cell_type": "markdown",
      "metadata": {
        "id": "zuDxRaHVUVSx"
      },
      "source": [
        "Basic kNN"
      ]
    },
    {
      "cell_type": "code",
      "execution_count": null,
      "metadata": {
        "colab": {
          "base_uri": "https://localhost:8080/"
        },
        "id": "IQ6vQhFiUUq8",
        "outputId": "1bf45737-bf3b-4b98-964a-24a30c325c56"
      },
      "outputs": [
        {
          "name": "stdout",
          "output_type": "stream",
          "text": [
            "Nearest Neighbors:  [[2.0, 'Orange'], [2.0, 'Orange'], [2.8284271247461903, 'Blue']]\n",
            "['Orange']\n"
          ]
        }
      ],
      "source": [
        "n = KNN(3)\n",
        "n.fit(x_train, y_train)\n",
        "print(n.predict(test_data))"
      ]
    },
    {
      "cell_type": "markdown",
      "metadata": {
        "id": "nyHIakmoU47c"
      },
      "source": [
        "Distance Weighted kNN"
      ]
    },
    {
      "cell_type": "code",
      "execution_count": null,
      "metadata": {
        "colab": {
          "base_uri": "https://localhost:8080/"
        },
        "id": "Tfk0qgNUU6xJ",
        "outputId": "85e91b73-2e63-4808-be14-5902b259a792"
      },
      "outputs": [
        {
          "name": "stdout",
          "output_type": "stream",
          "text": [
            "Nearest Neighbors:  [[2.0, 'Orange'], [2.0, 'Orange'], [2.8284271247461903, 'Blue']]\n",
            "['Orange']\n"
          ]
        }
      ],
      "source": [
        "n = KNN(3, 'distance_weighted')\n",
        "n.fit(x_train, y_train)\n",
        "print(n.predict(test_data))"
      ]
    },
    {
      "cell_type": "markdown",
      "metadata": {
        "id": "h_TGjW32VJqI"
      },
      "source": [
        "Locally Weighted Averaging kNN"
      ]
    },
    {
      "cell_type": "code",
      "execution_count": null,
      "metadata": {
        "colab": {
          "base_uri": "https://localhost:8080/"
        },
        "id": "c9Crbjx2VJKd",
        "outputId": "9549f5a9-49e9-4f95-dbdb-fa5a643090b9"
      },
      "outputs": [
        {
          "name": "stdout",
          "output_type": "stream",
          "text": [
            "Nearest Neighbors:  [[2.0, 'Orange'], [2.0, 'Orange'], [2.8284271247461903, 'Blue']]\n",
            "['Orange']\n"
          ]
        }
      ],
      "source": [
        "n = KNN(3, 'locally_weighted_averaging')\n",
        "n.fit(x_train, y_train)\n",
        "print(n.predict(test_data))"
      ]
    }
  ],
  "metadata": {
    "colab": {
      "collapsed_sections": [],
      "name": "ML3-fin",
      "provenance": []
    },
    "kernelspec": {
      "display_name": "Python 3",
      "name": "python3"
    },
    "language_info": {
      "name": "python"
    }
  },
  "nbformat": 4,
  "nbformat_minor": 0
}
