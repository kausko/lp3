{
  "cells": [
    {
      "cell_type": "markdown",
      "metadata": {},
      "source": [
        "# k-NN Classification"
      ]
    },
    {
      "cell_type": "markdown",
      "metadata": {
        "id": "BhxlkOWILpm9"
      },
      "source": [
        "In the following diagram let blue circles indicate positive examples and orange squares indicate negative examples. We want to use k-NN algorithm for classifying the points. If k=3, find the class of the point (6,6). Extend the same example for Distance-Weighted k-NN and Locally weighted Averaging."
      ]
    },
    {
      "cell_type": "code",
      "execution_count": 8,
      "metadata": {
        "id": "ENYh4hTOLwOf"
      },
      "outputs": [],
      "source": [
        "import math\n",
        "import matplotlib.pyplot as plt"
      ]
    },
    {
      "cell_type": "code",
      "execution_count": 15,
      "metadata": {
        "id": "dv1sFHsJL9Zq"
      },
      "outputs": [
        {
          "data": {
            "text/plain": [
              "<matplotlib.collections.PathCollection at 0x19aac92fd30>"
            ]
          },
          "execution_count": 15,
          "metadata": {},
          "output_type": "execute_result"
        },
        {
          "data": {
            "image/png": "[encoded data removed]",
            "text/plain": [
              "<Figure size 432x288 with 1 Axes>"
            ]
          },
          "metadata": {
            "needs_background": "light"
          },
          "output_type": "display_data"
        }
      ],
      "source": [
        "x_train = [[2 ,4], [4, 4], [4, 6], [4, 2], [6, 2], [6, 4]]\n",
        "y_train = [\"Orange\", \"Blue\", \"Orange\", \"Orange\", \"Blue\", \"Orange\"]\n",
        "test_data = [[6,6]]\n",
        "\n",
        "for coords, color in zip(x_train, y_train):\n",
        "\t\tplt.scatter(coords[0], coords[1], c=color)\n",
        "plt.scatter(test_data[0][0], test_data[0][1], c=\"black\")"
      ]
    },
    {
      "cell_type": "code",
      "execution_count": 3,
      "metadata": {
        "id": "n0l3gMgYMzHI"
      },
      "outputs": [],
      "source": [
        "class KNN:\n",
        "  def __init__(self, k:int = 2, algorithm = 'auto'):\n",
        "    self.k = k\n",
        "    self.x = []\n",
        "    self.y = []\n",
        "    self.algorithm = algorithm\n",
        "  \n",
        "  def fit(self, x, y):\n",
        "    self.x, self.y = x, y\n",
        "\n",
        "  def get_distance(self, p1, p2):\n",
        "    x1, y1 = p1\n",
        "    x2, y2 = p2\n",
        "    return math.sqrt(\n",
        "        (x1-x2)**2 + (y2-y1)**2\n",
        "    )\n",
        "\n",
        "  def auto_knn(self, distances):\n",
        "    return max((distances), key = lambda tup: tup[1])[1]\n",
        "\n",
        "  def weighted_knn(self, distances, local: bool = False):\n",
        "    frequencies = {}\n",
        "    weights = {}\n",
        "\n",
        "    for d in distances:\n",
        "      weights[d[1]] = weights.get(d[1], 0.0) + float(1/d[0])\n",
        "      frequencies[d[1]] = frequencies.get(d[1], 0) + 1\n",
        "    \n",
        "    if local:\n",
        "      for w in weights:\n",
        "        weights[w] /= frequencies[w]\n",
        "    \n",
        "    return max((weights), key = lambda x: weights[x])\n",
        "\n",
        "  \n",
        "  def distance_weighted_knn(self, distances):\n",
        "    return self.weighted_knn(distances)\n",
        "\n",
        "  def locally_weighted_averaging_knn(self, distances):\n",
        "    return self.weighted_knn(distances, local=True)\n",
        "\n",
        "  def predict(self, tests):\n",
        "    results = []\n",
        "    \n",
        "    for test in tests:\n",
        "      distances = []\n",
        "      \n",
        "      for i in range(len(self.x)):\n",
        "        distances.append([\n",
        "                          self.get_distance(self.x[i], test),\n",
        "                          self.y[i]\n",
        "        ])\n",
        "      \n",
        "      distances.sort(key = lambda tup: tup[0])\n",
        "      distances = distances[:self.k]\n",
        "      print(\"Nearest Neighbors: \", distances)\n",
        "\n",
        "      results.append(\n",
        "        # Calls the _knn functions in this class\n",
        "          getattr(self, self.algorithm + '_knn')(distances)\n",
        "      )\n",
        "    \n",
        "    return results\n",
        "\n"
      ]
    },
    {
      "cell_type": "markdown",
      "metadata": {
        "id": "zuDxRaHVUVSx"
      },
      "source": [
        "Basic kNN"
      ]
    },
    {
      "cell_type": "code",
      "execution_count": 4,
      "metadata": {
        "colab": {
          "base_uri": "https://localhost:8080/"
        },
        "id": "IQ6vQhFiUUq8",
        "outputId": "1bf45737-bf3b-4b98-964a-24a30c325c56"
      },
      "outputs": [
        {
          "name": "stdout",
          "output_type": "stream",
          "text": [
            "Nearest Neighbors:  [[2.0, 'Orange'], [2.0, 'Orange'], [2.8284271247461903, 'Blue']]\n",
            "['Orange']\n"
          ]
        }
      ],
      "source": [
        "n = KNN(3)\n",
        "n.fit(x_train, y_train)\n",
        "print(n.predict(test_data))"
      ]
    },
    {
      "cell_type": "markdown",
      "metadata": {
        "id": "nyHIakmoU47c"
      },
      "source": [
        "Distance Weighted kNN"
      ]
    },
    {
      "cell_type": "code",
      "execution_count": 5,
      "metadata": {
        "colab": {
          "base_uri": "https://localhost:8080/"
        },
        "id": "Tfk0qgNUU6xJ",
        "outputId": "85e91b73-2e63-4808-be14-5902b259a792"
      },
      "outputs": [
        {
          "name": "stdout",
          "output_type": "stream",
          "text": [
            "Nearest Neighbors:  [[2.0, 'Orange'], [2.0, 'Orange'], [2.8284271247461903, 'Blue']]\n",
            "['Orange']\n"
          ]
        }
      ],
      "source": [
        "n = KNN(3, 'distance_weighted')\n",
        "n.fit(x_train, y_train)\n",
        "print(n.predict(test_data))"
      ]
    },
    {
      "cell_type": "markdown",
      "metadata": {
        "id": "h_TGjW32VJqI"
      },
      "source": [
        "Locally Weighted Averaging kNN"
      ]
    },
    {
      "cell_type": "code",
      "execution_count": 6,
      "metadata": {
        "colab": {
          "base_uri": "https://localhost:8080/"
        },
        "id": "c9Crbjx2VJKd",
        "outputId": "9549f5a9-49e9-4f95-dbdb-fa5a643090b9"
      },
      "outputs": [
        {
          "name": "stdout",
          "output_type": "stream",
          "text": [
            "Nearest Neighbors:  [[2.0, 'Orange'], [2.0, 'Orange'], [2.8284271247461903, 'Blue']]\n",
            "['Orange']\n"
          ]
        }
      ],
      "source": [
        "n = KNN(3, 'locally_weighted_averaging')\n",
        "n.fit(x_train, y_train)\n",
        "print(n.predict(test_data))"
      ]
    }
  ],
  "metadata": {
    "colab": {
      "collapsed_sections": [],
      "name": "ML3-fin",
      "provenance": []
    },
    "interpreter": {
      "hash": "81794d4967e6c3204c66dcd87b604927b115b27c00565d3d43f05ba2f3a2cb0d"
    },
    "kernelspec": {
      "display_name": "Python 3.9.6 64-bit",
      "language": "python",
      "name": "python3"
    },
    "language_info": {
      "codemirror_mode": {
        "name": "ipython",
        "version": 3
      },
      "file_extension": ".py",
      "mimetype": "text/x-python",
      "name": "python",
      "nbconvert_exporter": "python",
      "pygments_lexer": "ipython3",
      "version": "3.9.6"
    }
  },
  "nbformat": 4,
  "nbformat_minor": 0
}
