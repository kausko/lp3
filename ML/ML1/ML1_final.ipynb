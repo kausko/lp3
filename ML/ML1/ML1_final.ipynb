{
 "cells": [
  {
   "cell_type": "markdown",
   "metadata": {},
   "source": [
    "<b>Assignment on Linear Regression:</b>\n",
    "The following table shows the results of a recently conducted study on the correlation of the number of hours spent driving with the risk of developing acute backache. Find the equation of the best fit line for this data."
   ]
  },
  {
   "cell_type": "code",
   "execution_count": 54,
   "metadata": {},
   "outputs": [],
   "source": [
    "import numpy as np\n",
    "import matplotlib.pyplot as plt"
   ]
  },
  {
   "cell_type": "code",
   "execution_count": 55,
   "metadata": {},
   "outputs": [],
   "source": [
    "X_driving_hours = [10, 9, 2, 15, 10, 16, 11, 16]\n",
    "y_risk_score = [95, 80, 10, 50, 45, 98, 38, 93]"
   ]
  },
  {
   "cell_type": "code",
   "execution_count": 56,
   "metadata": {},
   "outputs": [],
   "source": [
    "# optional, can use np.mean, np.var and np.cov as well\n",
    "def mean(X: list) -> float:\n",
    "\treturn sum(X) / len(X)\n",
    "\n",
    "def n_variance(X: list, m: float):\n",
    "\treturn sum([(xi - m)**2 for xi in X])\n",
    "\n",
    "def n_cov(X: list, Y: list, mx: float, my: float):\n",
    "\treturn sum([(xi - mx) * (yi - my) for xi, yi in zip(X, Y)])"
   ]
  },
  {
   "cell_type": "code",
   "execution_count": 57,
   "metadata": {},
   "outputs": [],
   "source": [
    "mx, my = np.mean(X_driving_hours), np.mean(y_risk_score) # mean(X_driving_hours), mean(y_risk_score)\n",
    "b1 = np.cov(X_driving_hours, y_risk_score, bias=True)[0][1] / np.var(X_driving_hours) # n_cov(X_driving_hours, y_risk_score, mx, my) / n_variance(X_driving_hours, mx)\n",
    "b0 = my - b1 * mx"
   ]
  },
  {
   "cell_type": "code",
   "execution_count": 58,
   "metadata": {},
   "outputs": [
    {
     "name": "stdout",
     "output_type": "stream",
     "text": [
      "Coefficients: b0 = 12.584627964022893, b1 = 4.58789860997547\n"
     ]
    }
   ],
   "source": [
    "print(\"Coefficients: b0 = {}, b1 = {}\".format(b0, b1))"
   ]
  },
  {
   "cell_type": "code",
   "execution_count": 59,
   "metadata": {},
   "outputs": [],
   "source": [
    "def abline(slope, intercept, fmt = '--', label = None):\n",
    "\t\"\"\"Plot a line from slope and intercept\"\"\"\n",
    "\taxes = plt.gca()\n",
    "\tx_vals = np.array(axes.get_xlim()) # axis view limits\n",
    "\ty_vals = intercept + slope * x_vals\n",
    "\tplt.plot(x_vals, y_vals, fmt, label = label)"
   ]
  },
  {
   "cell_type": "code",
   "execution_count": 60,
   "metadata": {},
   "outputs": [
    {
     "data": {
      "image/png": "[encoded data removed]",
      "text/plain": [
       "<Figure size 432x288 with 1 Axes>"
      ]
     },
     "metadata": {
      "needs_background": "light"
     },
     "output_type": "display_data"
    }
   ],
   "source": [
    "plt.plot(X_driving_hours, y_risk_score, 'o')\n",
    "abline(b1, b0, '--', label='Predicted line')\n",
    "abline(0, my, '--y', label='Average line')\n",
    "plt.legend()\n",
    "plt.show()"
   ]
  },
  {
   "cell_type": "code",
   "execution_count": 61,
   "metadata": {},
   "outputs": [
    {
     "name": "stdout",
     "output_type": "stream",
     "text": [
      "SST 7361.875\n",
      "SSE 4144.037612428455\n",
      "SSR 3217.837387571545\n",
      "R^2 0.43709481451010035\n"
     ]
    }
   ],
   "source": [
    "SSE_mean = sum([(yi - my) ** 2 for yi in y_risk_score]) # SST\n",
    "SSE_yhat = sum([(yi - (b0 + b1 * xi)) ** 2 for xi, yi in zip(X_driving_hours, y_risk_score)]) # SSE\n",
    "SSR = SSE_mean - SSE_yhat # SST - SSE\n",
    "r2 = SSR / SSE_mean # R^2\n",
    "print(\"SST\", SSE_mean)\n",
    "print(\"SSE\", SSE_yhat)\n",
    "print(\"SSR\", SSR)\n",
    "print(\"R^2\", r2)"
   ]
  }
 ],
 "metadata": {
  "interpreter": {
   "hash": "81794d4967e6c3204c66dcd87b604927b115b27c00565d3d43f05ba2f3a2cb0d"
  },
  "kernelspec": {
   "display_name": "Python 3.9.6 64-bit",
   "language": "python",
   "name": "python3"
  },
  "language_info": {
   "codemirror_mode": {
    "name": "ipython",
    "version": 3
   },
   "file_extension": ".py",
   "mimetype": "text/x-python",
   "name": "python",
   "nbconvert_exporter": "python",
   "pygments_lexer": "ipython3",
   "version": "3.9.6"
  },
  "orig_nbformat": 4
 },
 "nbformat": 4,
 "nbformat_minor": 2
}
