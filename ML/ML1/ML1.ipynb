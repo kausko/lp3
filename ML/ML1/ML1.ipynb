{
  "cells": [
    {
      "cell_type": "markdown",
      "metadata": {
        "id": "xNxX9NXjhnkN"
      },
      "source": [
        "<b>Assignment on Linear Regression:</b>\n",
        "The following table shows the results of a recently conducted study on the correlation of the number of hours spent driving with the risk of developing acute backache. Find the equation of the best fit line for this data."
      ]
    },
    {
      "cell_type": "code",
      "execution_count": 2,
      "metadata": {
        "id": "LGzSAuOrhnkR"
      },
      "outputs": [],
      "source": [
        "import numpy as np"
      ]
    },
    {
      "cell_type": "code",
      "execution_count": 3,
      "metadata": {
        "id": "PGi_o47vhnkS"
      },
      "outputs": [],
      "source": [
        "X_driving_hours = [10, 9, 2, 15, 10, 16, 11, 16]\n",
        "y_risk_score = [95, 80, 10, 50, 45, 98, 38, 93]"
      ]
    },
    {
      "cell_type": "code",
      "execution_count": 4,
      "metadata": {
        "id": "pH80CQ9zhnkT"
      },
      "outputs": [],
      "source": [
        "import matplotlib.pyplot as plt"
      ]
    },
    {
      "cell_type": "code",
      "execution_count": 5,
      "metadata": {
        "colab": {
          "base_uri": "https://localhost:8080/",
          "height": 282
        },
        "id": "AYcA-fL2hnkT",
        "outputId": "ad641d66-98e8-4ad2-ad5f-2f962c90029e"
      },
      "outputs": [
        {
          "output_type": "execute_result",
          "data": {
            "text/plain": [
              "[<matplotlib.lines.Line2D at 0x7fbbeaa07250>]"
            ]
          },
          "metadata": {},
          "execution_count": 5
        },
        {
          "output_type": "display_data",
          "data": {
            "text/plain": [
              "<Figure size 432x288 with 1 Axes>"
            ],
            "image/png": "[encoded data removed]"
          },
          "metadata": {
            "needs_background": "light"
          }
        }
      ],
      "source": [
        "plt.plot(X_driving_hours, y_risk_score, \"o\")"
      ]
    },
    {
      "cell_type": "markdown",
      "metadata": {
        "id": "78CUIEKyhnkT"
      },
      "source": [
        "1. Finding coefficients b0, b1 that satisfy the equation y = b1x + b0 for given data"
      ]
    },
    {
      "cell_type": "code",
      "execution_count": 6,
      "metadata": {
        "id": "ZkUD951vhnkU"
      },
      "outputs": [],
      "source": [
        "# helper functions\n",
        "def mean(values):\n",
        "    return sum(values) / float(len(values))\n",
        " \n",
        "def variance(values, mean):\n",
        "    return sum([(x-mean)**2 for x in values])\n",
        "\n",
        "def covariance(x, mean_x, y, mean_y):\n",
        "    covar = 0.0\n",
        "    for i in range(len(x)):\n",
        "        covar += (x[i] - mean_x) * (y[i] - mean_y)\n",
        "    return covar"
      ]
    },
    {
      "cell_type": "code",
      "execution_count": 7,
      "metadata": {
        "id": "BmIC2B3OhnkV"
      },
      "outputs": [],
      "source": [
        "def find_coefficients(x, y):\n",
        "    x_mean, y_mean = mean(x), mean(y)\n",
        "    b1 = covariance(x, x_mean, y, y_mean) / variance(x, x_mean)\n",
        "    b0 = y_mean - b1 * x_mean\n",
        "    return [b0, b1]"
      ]
    },
    {
      "cell_type": "code",
      "execution_count": 8,
      "metadata": {
        "colab": {
          "base_uri": "https://localhost:8080/"
        },
        "id": "wBZlh3gShnkW",
        "outputId": "283a0368-c5a0-4580-d9fe-d2e69676bf52"
      },
      "outputs": [
        {
          "output_type": "stream",
          "name": "stdout",
          "text": [
            "Coefficients: B0=12.585, B1=4.588\n"
          ]
        }
      ],
      "source": [
        "b0, b1 = find_coefficients(X_driving_hours, y_risk_score)\n",
        "print('Coefficients: B0=%.3f, B1=%.3f' % (b0, b1))"
      ]
    },
    {
      "cell_type": "markdown",
      "metadata": {
        "id": "ON8Sa--zhnkW"
      },
      "source": [
        "The equation for the given data (in the form y = b0 + b1x)\n",
        "<b> y = 12.585 + 4.588x"
      ]
    },
    {
      "cell_type": "code",
      "execution_count": 9,
      "metadata": {
        "colab": {
          "base_uri": "https://localhost:8080/"
        },
        "id": "3buxLI_6hnkX",
        "outputId": "d2f533e2-763c-4257-ce86-29b3c5acc497"
      },
      "outputs": [
        {
          "output_type": "execute_result",
          "data": {
            "text/plain": [
              "array([[4.58789861]])"
            ]
          },
          "metadata": {},
          "execution_count": 9
        }
      ],
      "source": [
        "from sklearn.linear_model import LinearRegression\n",
        "X = np.array(X_driving_hours).reshape(-1, 1) \n",
        "y = np.array(y_risk_score).reshape(-1, 1) \n",
        "lm = LinearRegression().fit(X, y)\n",
        "lm.coef_"
      ]
    },
    {
      "cell_type": "code",
      "execution_count": 10,
      "metadata": {
        "colab": {
          "base_uri": "https://localhost:8080/"
        },
        "id": "hiTZkDOphnkX",
        "outputId": "5b51f280-2c35-47e5-9d23-2b46bebd1259"
      },
      "outputs": [
        {
          "output_type": "execute_result",
          "data": {
            "text/plain": [
              "array([12.58462796])"
            ]
          },
          "metadata": {},
          "execution_count": 10
        }
      ],
      "source": [
        "lm.intercept_"
      ]
    },
    {
      "cell_type": "code",
      "execution_count": 11,
      "metadata": {
        "id": "SCx1pe64hnkY"
      },
      "outputs": [],
      "source": [
        "def abline(slope, intercept):\n",
        "    axes = plt.gca()\n",
        "    x_vals = np.array(axes.get_xlim())\n",
        "    y_vals = intercept + slope * x_vals\n",
        "    plt.plot(x_vals, y_vals, '--')"
      ]
    },
    {
      "cell_type": "code",
      "execution_count": 12,
      "metadata": {
        "colab": {
          "base_uri": "https://localhost:8080/",
          "height": 265
        },
        "id": "dPZ07r0shnkY",
        "outputId": "410036fd-514c-467a-80b6-a7be4609dff4"
      },
      "outputs": [
        {
          "output_type": "display_data",
          "data": {
            "text/plain": [
              "<Figure size 432x288 with 1 Axes>"
            ],
            "image/png": "[encoded data removed]"
          },
          "metadata": {
            "needs_background": "light"
          }
        }
      ],
      "source": [
        "plt.plot(X_driving_hours, y_risk_score, \"o\")\n",
        "abline(b1, b0)"
      ]
    },
    {
      "cell_type": "markdown",
      "metadata": {
        "id": "4bEAtzIwhnkZ"
      },
      "source": [
        "2. Prediction"
      ]
    },
    {
      "cell_type": "code",
      "execution_count": 13,
      "metadata": {
        "id": "euTls8rIhnkZ"
      },
      "outputs": [],
      "source": [
        "def linear_regression(X_train, y_train, X_test):\n",
        "    predictions = list()\n",
        "    b0, b1 = find_coefficients(X_train, y_train)\n",
        "    for row in X_test:\n",
        "        yhat = b0 + b1 * row\n",
        "        predictions.append(yhat)\n",
        "    return predictions"
      ]
    },
    {
      "cell_type": "code",
      "execution_count": 14,
      "metadata": {
        "id": "-ta-bor8hnkZ"
      },
      "outputs": [],
      "source": [
        "# Calculate Root Mean Squared Error\n",
        "from math import sqrt\n",
        "def calc_rmse(actual, predicted):\n",
        "    sum_err = 0.0\n",
        "    for i in range(len(actual)):\n",
        "        pred_err = predicted[i] - actual[i]\n",
        "        sum_err += (pred_err ** 2)\n",
        "    mean_err = sum_err / float(len(actual))\n",
        "    return sqrt(mean_err)"
      ]
    },
    {
      "cell_type": "code",
      "execution_count": 15,
      "metadata": {
        "id": "YcYQpbFmhnkZ"
      },
      "outputs": [],
      "source": [
        "from sklearn.model_selection import train_test_split\n",
        "X_train, X_test, Y_train, Y_test = train_test_split(X_driving_hours, y_risk_score, test_size=1/3, random_state=0)"
      ]
    },
    {
      "cell_type": "code",
      "execution_count": 16,
      "metadata": {
        "colab": {
          "base_uri": "https://localhost:8080/"
        },
        "id": "3QDUNmsphnka",
        "outputId": "d5cde9b9-800c-44bf-d363-eb28bfc1d45e"
      },
      "outputs": [
        {
          "output_type": "execute_result",
          "data": {
            "text/plain": [
              "29.547856861944695"
            ]
          },
          "metadata": {},
          "execution_count": 16
        }
      ],
      "source": [
        "predictions = linear_regression(X_train, Y_train, X_test)\n",
        "rmse = calc_rmse(Y_test, predictions)\n",
        "rmse"
      ]
    },
    {
      "cell_type": "code",
      "execution_count": 17,
      "metadata": {
        "colab": {
          "base_uri": "https://localhost:8080/",
          "height": 265
        },
        "id": "Vd7oMZbzhnka",
        "outputId": "1bcd7c5b-28a2-4dd6-9706-3b1c62830082"
      },
      "outputs": [
        {
          "output_type": "display_data",
          "data": {
            "text/plain": [
              "<Figure size 432x288 with 1 Axes>"
            ],
            "image/png": "[encoded data removed]"
          },
          "metadata": {
            "needs_background": "light"
          }
        }
      ],
      "source": [
        "plt.plot(X_train, Y_train, \"bo\")\n",
        "plt.plot(X_test, Y_test, \"ro\")\n",
        "plt.plot(X_test, predictions, \"y\")\n",
        "plt.plot()\n",
        "abline(b1, b0)\n",
        "plt.show()"
      ]
    },
    {
      "cell_type": "markdown",
      "metadata": {
        "id": "5_FzDMy1hnka"
      },
      "source": [
        "The above graph indicates the following:\n",
        "- Blue Dots: Training samples\n",
        "- Red Dots: Testing samples\n",
        "- Blue Dashed Line: best fit line\n",
        "- Yellow Line: predicted output best fit line"
      ]
    }
  ],
  "metadata": {
    "kernelspec": {
      "display_name": "Python 3",
      "language": "python",
      "name": "python3"
    },
    "language_info": {
      "codemirror_mode": {
        "name": "ipython",
        "version": 3
      },
      "file_extension": ".py",
      "mimetype": "text/x-python",
      "name": "python",
      "nbconvert_exporter": "python",
      "pygments_lexer": "ipython3",
      "version": "3.9.6"
    },
    "colab": {
      "name": "ML1.ipynb",
      "provenance": [],
      "toc_visible": true
    }
  },
  "nbformat": 4,
  "nbformat_minor": 0
}