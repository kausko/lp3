{
  "cells": [
    {
      "cell_type": "markdown",
      "metadata": {
        "id": "M-NW4i7cxYi0"
      },
      "source": [
        "# K-Means Clustering"
      ]
    },
    {
      "cell_type": "markdown",
      "metadata": {
        "id": "JaLNzDxlxWX0"
      },
      "source": [
        "We have given a collection of 8 points. P1=[0.1,0.6] ,P2=[0.15,0.71], P3=[0.08,0.9] P4=[0.16, 0.85], P5=[0.2,0.3], P6=[0.25,0.5], P7=[0.24,0.1], P8=[0.3,0.2]. Perform the k-mean clustering with initial centroids as m1=P1 = Cluster#1=C1 and m2=P8=cluster#2=C2. Answer the following: <br/>\n",
        "1] Which cluster does P6 belong to?<br/>\n",
        "2] What is the population of cluster around m2?  <br/>\n",
        "3] What is updated value of m1 and m2?<br/>"
      ]
    },
    {
      "cell_type": "code",
      "execution_count": 8,
      "metadata": {
        "id": "V7UYcDAZyQDL"
      },
      "outputs": [],
      "source": [
        "import numpy as np\n",
        "import pandas as pd\n",
        "import matplotlib.pyplot as plt"
      ]
    },
    {
      "cell_type": "code",
      "execution_count": 9,
      "metadata": {
        "colab": {
          "base_uri": "https://localhost:8080/",
          "height": 206
        },
        "id": "bp0F7EemxTEk",
        "outputId": "ba307f53-860c-44f4-a834-3eab5549275e"
      },
      "outputs": [
        {
          "data": {
            "text/html": [
              "<div>\n",
              "<style scoped>\n",
              "    .dataframe tbody tr th:only-of-type {\n",
              "        vertical-align: middle;\n",
              "    }\n",
              "\n",
              "    .dataframe tbody tr th {\n",
              "        vertical-align: top;\n",
              "    }\n",
              "\n",
              "    .dataframe thead th {\n",
              "        text-align: right;\n",
              "    }\n",
              "</style>\n",
              "<table border=\"1\" class=\"dataframe\">\n",
              "  <thead>\n",
              "    <tr style=\"text-align: right;\">\n",
              "      <th></th>\n",
              "      <th>X</th>\n",
              "      <th>Y</th>\n",
              "    </tr>\n",
              "  </thead>\n",
              "  <tbody>\n",
              "    <tr>\n",
              "      <th>0</th>\n",
              "      <td>0.10</td>\n",
              "      <td>0.60</td>\n",
              "    </tr>\n",
              "    <tr>\n",
              "      <th>1</th>\n",
              "      <td>0.15</td>\n",
              "      <td>0.71</td>\n",
              "    </tr>\n",
              "    <tr>\n",
              "      <th>2</th>\n",
              "      <td>0.08</td>\n",
              "      <td>0.90</td>\n",
              "    </tr>\n",
              "    <tr>\n",
              "      <th>3</th>\n",
              "      <td>0.16</td>\n",
              "      <td>0.85</td>\n",
              "    </tr>\n",
              "    <tr>\n",
              "      <th>4</th>\n",
              "      <td>0.20</td>\n",
              "      <td>0.30</td>\n",
              "    </tr>\n",
              "  </tbody>\n",
              "</table>\n",
              "</div>"
            ],
            "text/plain": [
              "      X     Y\n",
              "0  0.10  0.60\n",
              "1  0.15  0.71\n",
              "2  0.08  0.90\n",
              "3  0.16  0.85\n",
              "4  0.20  0.30"
            ]
          },
          "execution_count": 9,
          "metadata": {},
          "output_type": "execute_result"
        }
      ],
      "source": [
        "dataset = [\n",
        "           [0.1,0.6],\n",
        "           [0.15,0.71],\n",
        "           [0.08,0.9],\n",
        "           [0.16, 0.85],\n",
        "           [0.2,0.3],\n",
        "           [0.25,0.5],\n",
        "           [0.24,0.1],\n",
        "           [0.3,0.2]     \n",
        "]\n",
        "data = pd.DataFrame(dataset, columns=['X', 'Y'])\n",
        "data.head()"
      ]
    },
    {
      "cell_type": "code",
      "execution_count": 10,
      "metadata": {
        "colab": {
          "base_uri": "https://localhost:8080/"
        },
        "id": "Afcsvv62yeYq",
        "outputId": "5f45c4b9-3d41-4b7b-8d02-f5d4b98b49b9"
      },
      "outputs": [
        {
          "data": {
            "text/plain": [
              "array([[0.1, 0.6],\n",
              "       [0.3, 0.2]])"
            ]
          },
          "execution_count": 10,
          "metadata": {},
          "output_type": "execute_result"
        }
      ],
      "source": [
        "X = np.array(data)\n",
        "centroids = np.array([\n",
        "            [0.1, 0.6],\n",
        "            [0.3, 0.2]\n",
        "])\n",
        "centroids"
      ]
    },
    {
      "cell_type": "code",
      "execution_count": 11,
      "metadata": {
        "id": "xOhK7XrVy2eW"
      },
      "outputs": [],
      "source": [
        "class K_Means:\n",
        "  def __init__(self, k = 2, tol = 0.01, max_iter = 300):\n",
        "    self.k = k\n",
        "    self.tol = tol\n",
        "    self.max_iter = max_iter\n",
        "    self.cur_centroid = []\n",
        "\n",
        "  def fit(self, data, centroid):\n",
        "    self.cur_centroid = centroid\n",
        "    new_centroids = []\n",
        "\n",
        "    for _ in range(self.max_iter):\n",
        "      cur_clusters = [[] for _ in range(self.k)]\n",
        "\n",
        "      for pt in data:\n",
        "        distances = [np.linalg.norm(pt - c) for c in self.cur_centroid]\n",
        "        closest_centroid = distances.index(min(distances))\n",
        "        cur_clusters[closest_centroid].append(pt)\n",
        "\n",
        "      new_centroids = [\n",
        "        np.average(cur_clusters[i], axis=0) for i in range(self.k)\n",
        "      ]\n",
        "\n",
        "      optimized = True\n",
        "\n",
        "      for i in range(len(self.cur_centroid)):\n",
        "        if np.sum(\n",
        "          (new_centroids[i] - self.cur_centroid[i])/self.cur_centroid[i] * 100.0\n",
        "        ) > self.tol:\n",
        "          optimized = False\n",
        "      \n",
        "      if optimized == True: break\n",
        "\n",
        "      self.cur_centroid = new_centroids\n",
        "    \n",
        "    return cur_clusters, self.cur_centroid\n"
      ]
    },
    {
      "cell_type": "code",
      "execution_count": 12,
      "metadata": {
        "colab": {
          "base_uri": "https://localhost:8080/"
        },
        "id": "3PQdlKn31ewV",
        "outputId": "9eda35d2-7584-4c49-adc8-4908a31bdac3"
      },
      "outputs": [],
      "source": [
        "km = K_Means()\n",
        "clusters, centroids = km.fit(X, centroids)"
      ]
    },
    {
      "cell_type": "markdown",
      "metadata": {
        "id": "wZs8jaVA1nqP"
      },
      "source": [
        "## Before Clustering"
      ]
    },
    {
      "cell_type": "code",
      "execution_count": 13,
      "metadata": {
        "colab": {
          "base_uri": "https://localhost:8080/",
          "height": 265
        },
        "id": "Rh1DtSSo1pjy",
        "outputId": "4949a553-fc6a-4bee-a3c7-e524ff27eb64"
      },
      "outputs": [
        {
          "data": {
            "image/png": "[encoded data removed]",
            "text/plain": [
              "<Figure size 432x288 with 1 Axes>"
            ]
          },
          "metadata": {
            "needs_background": "light"
          },
          "output_type": "display_data"
        }
      ],
      "source": [
        "plt.figure()\n",
        "plt.scatter(X[:, 0], X[:, 1], alpha=0.3)\n",
        "plt.axis(\"equal\")\n",
        "plt.show()"
      ]
    },
    {
      "cell_type": "markdown",
      "metadata": {
        "id": "PSdRXqm-2F6C"
      },
      "source": [
        "## After Clustering"
      ]
    },
    {
      "cell_type": "code",
      "execution_count": 14,
      "metadata": {
        "colab": {
          "base_uri": "https://localhost:8080/",
          "height": 265
        },
        "id": "_YKY8kZ22FIn",
        "outputId": "ffff8bc7-0413-4ba0-9c82-b65795dad5c5"
      },
      "outputs": [
        {
          "name": "stdout",
          "output_type": "stream",
          "text": [
            "Clusters are: \n",
            "[[0.1, 0.6], [0.15, 0.71], [0.08, 0.9], [0.16, 0.85], [0.25, 0.5]]\n",
            "[[0.2, 0.3], [0.24, 0.1], [0.3, 0.2]]\n",
            "\n",
            "1. P6 [0.25, 0.5] belongs to cluster: 1\n",
            "2. Population around cluster m2: 3\n",
            "3. Updated values of centroids:\n",
            "[0.148 0.712]\n",
            "[0.24666667 0.2       ]\n"
          ]
        },
        {
          "data": {
            "image/png": "[encoded data removed]",
            "text/plain": [
              "<Figure size 432x288 with 1 Axes>"
            ]
          },
          "metadata": {
            "needs_background": "light"
          },
          "output_type": "display_data"
        }
      ],
      "source": [
        "colors = ['r', 'b']\n",
        "plt.figure()\n",
        "\n",
        "p6 = [0.25, 0.5]\n",
        "p6c = -1\n",
        "\n",
        "print(\"Clusters are: \")\n",
        "for i,c in enumerate(clusters):\n",
        "  pts = []\n",
        "  for x,y in c:\n",
        "    if p6 == [x,y]: p6c = i+1\n",
        "    pts.append([x,y])\n",
        "    plt.scatter(x,y, color = colors[i])\n",
        "  print(pts)\n",
        "\n",
        "print(\"\\n1. P6\", p6, \"belongs to cluster:\", p6c)\n",
        "print(\"2. Population around cluster m2:\", len(clusters[1]))\n",
        "print(\"3. Updated values of centroids:\")\n",
        "for centroid in centroids:\n",
        "  print(centroid)\n",
        "  plt.scatter(\n",
        "      centroid[0],\n",
        "      centroid[1],\n",
        "      marker = 'x',\n",
        "      color = 'black'\n",
        "  )\n",
        "\n",
        "plt.axis(\"equal\")\n",
        "plt.show()"
      ]
    }
  ],
  "metadata": {
    "colab": {
      "name": "ML4-fin.ipynb",
      "provenance": []
    },
    "interpreter": {
      "hash": "81794d4967e6c3204c66dcd87b604927b115b27c00565d3d43f05ba2f3a2cb0d"
    },
    "kernelspec": {
      "display_name": "Python 3.9.6 64-bit",
      "language": "python",
      "name": "python3"
    },
    "language_info": {
      "codemirror_mode": {
        "name": "ipython",
        "version": 3
      },
      "file_extension": ".py",
      "mimetype": "text/x-python",
      "name": "python",
      "nbconvert_exporter": "python",
      "pygments_lexer": "ipython3",
      "version": "3.9.6"
    }
  },
  "nbformat": 4,
  "nbformat_minor": 0
}
