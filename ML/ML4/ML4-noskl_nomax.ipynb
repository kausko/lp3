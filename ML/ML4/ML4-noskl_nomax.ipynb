{
 "cells": [
  {
   "cell_type": "markdown",
   "metadata": {
    "id": "M-NW4i7cxYi0"
   },
   "source": [
    "# K-Means Clustering"
   ]
  },
  {
   "cell_type": "markdown",
   "metadata": {
    "id": "JaLNzDxlxWX0"
   },
   "source": [
    "We have given a collection of 8 points. P1=[0.1,0.6] ,P2=[0.15,0.71], P3=[0.08,0.9] P4=[0.16, 0.85], P5=[0.2,0.3], P6=[0.25,0.5], P7=[0.24,0.1], P8=[0.3,0.2]. Perform the k-mean clustering with initial centroids as m1=P1 = Cluster#1=C1 and m2=P8=cluster#2=C2. Answer the following: <br/>\n",
    "1] Which cluster does P6 belong to?<br/>\n",
    "2] What is the population of cluster around m2?  <br/>\n",
    "3] What is updated value of m1 and m2?<br/>"
   ]
  },
  {
   "cell_type": "code",
   "execution_count": 33,
   "metadata": {},
   "outputs": [],
   "source": [
    "import numpy as np\n",
    "import pandas as pd\n",
    "import matplotlib.pyplot as plt"
   ]
  },
  {
   "cell_type": "code",
   "execution_count": 34,
   "metadata": {},
   "outputs": [],
   "source": [
    "class K_Means():\n",
    "\tdef __init__(self, k: int = 2):\n",
    "\t\tself.k = k\n",
    "\n",
    "\tdef distance(self, p1, p2):\n",
    "\t\tx1, y1 = p1\n",
    "\t\tx2, y2 = p2\n",
    "\t\treturn (x2 - x1) ** 2 + (y2 - y1) ** 2\n",
    "\t\n",
    "\tdef fit(self, points, centroids):\n",
    "\t\tprev_clusters = None\n",
    "\t\tclusters = [set() for _ in range(self.k)]\n",
    "\n",
    "\t\twhile prev_clusters != clusters:\n",
    "\t\t\tprev_clusters = clusters\n",
    "\n",
    "\t\t\tfor p in points:\n",
    "\t\t\t\tidx = 0\n",
    "\n",
    "\t\t\t\tfor i in range(1, self.k):\n",
    "\t\t\t\t\tif self.distance(p, centroids[i]) < self.distance(p, centroids[idx]):\n",
    "\t\t\t\t\t\tidx = i\n",
    "\t\t\t\t\n",
    "\t\t\t\tclusters[idx].add(p)\n",
    "\t\t\t\n",
    "\t\t\tfor i in range(self.k):\n",
    "\t\t\t\tcentroids[i] = np.mean(list(clusters[i]), axis=0)\n",
    "\t\t\t\n",
    "\t\treturn clusters, centroids"
   ]
  },
  {
   "cell_type": "code",
   "execution_count": 35,
   "metadata": {},
   "outputs": [
    {
     "data": {
      "text/html": [
       "<div>\n",
       "<style scoped>\n",
       "    .dataframe tbody tr th:only-of-type {\n",
       "        vertical-align: middle;\n",
       "    }\n",
       "\n",
       "    .dataframe tbody tr th {\n",
       "        vertical-align: top;\n",
       "    }\n",
       "\n",
       "    .dataframe thead th {\n",
       "        text-align: right;\n",
       "    }\n",
       "</style>\n",
       "<table border=\"1\" class=\"dataframe\">\n",
       "  <thead>\n",
       "    <tr style=\"text-align: right;\">\n",
       "      <th></th>\n",
       "      <th>X</th>\n",
       "      <th>Y</th>\n",
       "    </tr>\n",
       "  </thead>\n",
       "  <tbody>\n",
       "    <tr>\n",
       "      <th>0</th>\n",
       "      <td>0.10</td>\n",
       "      <td>0.60</td>\n",
       "    </tr>\n",
       "    <tr>\n",
       "      <th>1</th>\n",
       "      <td>0.15</td>\n",
       "      <td>0.71</td>\n",
       "    </tr>\n",
       "    <tr>\n",
       "      <th>2</th>\n",
       "      <td>0.08</td>\n",
       "      <td>0.90</td>\n",
       "    </tr>\n",
       "    <tr>\n",
       "      <th>3</th>\n",
       "      <td>0.16</td>\n",
       "      <td>0.85</td>\n",
       "    </tr>\n",
       "    <tr>\n",
       "      <th>4</th>\n",
       "      <td>0.20</td>\n",
       "      <td>0.30</td>\n",
       "    </tr>\n",
       "  </tbody>\n",
       "</table>\n",
       "</div>"
      ],
      "text/plain": [
       "      X     Y\n",
       "0  0.10  0.60\n",
       "1  0.15  0.71\n",
       "2  0.08  0.90\n",
       "3  0.16  0.85\n",
       "4  0.20  0.30"
      ]
     },
     "execution_count": 35,
     "metadata": {},
     "output_type": "execute_result"
    }
   ],
   "source": [
    "dataset = [\n",
    "  (0.1,0.6),\n",
    "  (0.15,0.71),\n",
    "  (0.08,0.9),\n",
    "  (0.16, 0.85),\n",
    "  (0.2,0.3),\n",
    "  (0.25,0.5),\n",
    "  (0.24,0.1),\n",
    "  (0.3,0.2)     \n",
    "]\n",
    "centroids = [\n",
    "  (0.1,0.6),\n",
    "  (0.3,0.2)\n",
    "]\n",
    "data = pd.DataFrame(dataset, columns=['X', 'Y'])\n",
    "data.head()"
   ]
  },
  {
   "cell_type": "code",
   "execution_count": 36,
   "metadata": {},
   "outputs": [
    {
     "data": {
      "image/png": "[encoded data removed]",
      "text/plain": [
       "<Figure size 432x288 with 1 Axes>"
      ]
     },
     "metadata": {
      "needs_background": "light"
     },
     "output_type": "display_data"
    }
   ],
   "source": [
    "plt.scatter(data['X'], data['Y'])\n",
    "plt.axis('equal')\n",
    "plt.show()"
   ]
  },
  {
   "cell_type": "code",
   "execution_count": 37,
   "metadata": {},
   "outputs": [
    {
     "data": {
      "image/png": "[encoded data removed]",
      "text/plain": [
       "<Figure size 432x288 with 1 Axes>"
      ]
     },
     "metadata": {
      "needs_background": "light"
     },
     "output_type": "display_data"
    }
   ],
   "source": [
    "k_means = K_Means()\n",
    "clusters, centroids = k_means.fit(dataset, centroids)\n",
    "\n",
    "for i in [0,1]:\n",
    "\tx, y = zip(*clusters[i])\n",
    "\tplt.scatter(x, y, label='Cluster {}'.format(i+1))\n",
    "\n",
    "x, y = zip(*centroids)\n",
    "plt.scatter(x, y, label='Centroids')\n",
    "\n",
    "plt.legend()\n",
    "plt.axis(\"equal\")\n",
    "plt.show()"
   ]
  },
  {
   "cell_type": "code",
   "execution_count": 40,
   "metadata": {},
   "outputs": [
    {
     "name": "stdout",
     "output_type": "stream",
     "text": [
      "\n",
      "1. P6 (0.25, 0.5) belongs to cluster: 1\n",
      "2. Population around cluster m2: 3\n",
      "3. Updated values of centroids: [array([0.148, 0.712]), array([0.24666667, 0.2       ])]\n"
     ]
    }
   ],
   "source": [
    "p6 = (0.25, 0.5)\n",
    "p6c = 1 if p6 in clusters[0] else 2\n",
    "\n",
    "print(\"\\n1. P6\", p6, \"belongs to cluster:\", p6c)\n",
    "print(\"2. Population around cluster m2:\", len(clusters[1]))\n",
    "print(\"3. Updated values of centroids:\", centroids)"
   ]
  }
 ],
 "metadata": {
  "interpreter": {
   "hash": "81794d4967e6c3204c66dcd87b604927b115b27c00565d3d43f05ba2f3a2cb0d"
  },
  "kernelspec": {
   "display_name": "Python 3.9.6 64-bit",
   "language": "python",
   "name": "python3"
  },
  "language_info": {
   "codemirror_mode": {
    "name": "ipython",
    "version": 3
   },
   "file_extension": ".py",
   "mimetype": "text/x-python",
   "name": "python",
   "nbconvert_exporter": "python",
   "pygments_lexer": "ipython3",
   "version": "3.9.6"
  },
  "orig_nbformat": 4
 },
 "nbformat": 4,
 "nbformat_minor": 2
}
