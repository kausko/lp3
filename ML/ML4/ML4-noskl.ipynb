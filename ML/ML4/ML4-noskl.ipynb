{
  "nbformat": 4,
  "nbformat_minor": 0,
  "metadata": {
    "colab": {
      "name": "ML4-fin.ipynb",
      "provenance": []
    },
    "kernelspec": {
      "name": "python3",
      "display_name": "Python 3"
    },
    "language_info": {
      "name": "python"
    }
  },
  "cells": [
    {
      "cell_type": "markdown",
      "source": [
        "# K-Means Clustering"
      ],
      "metadata": {
        "id": "M-NW4i7cxYi0"
      }
    },
    {
      "cell_type": "markdown",
      "source": [
        "We have given a collection of 8 points. P1=[0.1,0.6] ,P2=[0.15,0.71], P3=[0.08,0.9] P4=[0.16, 0.85], P5=[0.2,0.3], P6=[0.25,0.5], P7=[0.24,0.1], P8=[0.3,0.2]. Perform the k-mean clustering with initial centroids as m1=P1 = Cluster#1=C1 and m2=P8=cluster#2=C2. Answer the following: <br/>\n",
        "1] Which cluster does P6 belong to?<br/>\n",
        "2] What is the population of cluster around m2?  <br/>\n",
        "3] What is updated value of m1 and m2?<br/>"
      ],
      "metadata": {
        "id": "JaLNzDxlxWX0"
      }
    },
    {
      "cell_type": "code",
      "source": [
        "import numpy as np\n",
        "import pandas as pd\n",
        "import matplotlib.pyplot as plt"
      ],
      "metadata": {
        "id": "V7UYcDAZyQDL"
      },
      "execution_count": null,
      "outputs": []
    },
    {
      "cell_type": "code",
      "execution_count": null,
      "metadata": {
        "colab": {
          "base_uri": "https://localhost:8080/",
          "height": 206
        },
        "id": "bp0F7EemxTEk",
        "outputId": "ba307f53-860c-44f4-a834-3eab5549275e"
      },
      "outputs": [
        {
          "output_type": "execute_result",
          "data": {
            "text/plain": [
              "      X     Y\n",
              "0  0.10  0.60\n",
              "1  0.15  0.71\n",
              "2  0.08  0.90\n",
              "3  0.16  0.85\n",
              "4  0.20  0.30"
            ],
            "text/html": [
              "\n",
              "  <div id=\"df-5c9b4f5c-b7fb-4cad-8668-c847f6b570d0\">\n",
              "    <div class=\"colab-df-container\">\n",
              "      <div>\n",
              "<style scoped>\n",
              "    .dataframe tbody tr th:only-of-type {\n",
              "        vertical-align: middle;\n",
              "    }\n",
              "\n",
              "    .dataframe tbody tr th {\n",
              "        vertical-align: top;\n",
              "    }\n",
              "\n",
              "    .dataframe thead th {\n",
              "        text-align: right;\n",
              "    }\n",
              "</style>\n",
              "<table border=\"1\" class=\"dataframe\">\n",
              "  <thead>\n",
              "    <tr style=\"text-align: right;\">\n",
              "      <th></th>\n",
              "      <th>X</th>\n",
              "      <th>Y</th>\n",
              "    </tr>\n",
              "  </thead>\n",
              "  <tbody>\n",
              "    <tr>\n",
              "      <th>0</th>\n",
              "      <td>0.10</td>\n",
              "      <td>0.60</td>\n",
              "    </tr>\n",
              "    <tr>\n",
              "      <th>1</th>\n",
              "      <td>0.15</td>\n",
              "      <td>0.71</td>\n",
              "    </tr>\n",
              "    <tr>\n",
              "      <th>2</th>\n",
              "      <td>0.08</td>\n",
              "      <td>0.90</td>\n",
              "    </tr>\n",
              "    <tr>\n",
              "      <th>3</th>\n",
              "      <td>0.16</td>\n",
              "      <td>0.85</td>\n",
              "    </tr>\n",
              "    <tr>\n",
              "      <th>4</th>\n",
              "      <td>0.20</td>\n",
              "      <td>0.30</td>\n",
              "    </tr>\n",
              "  </tbody>\n",
              "</table>\n",
              "</div>\n",
              "      <button class=\"colab-df-convert\" onclick=\"convertToInteractive('df-5c9b4f5c-b7fb-4cad-8668-c847f6b570d0')\"\n",
              "              title=\"Convert this dataframe to an interactive table.\"\n",
              "              style=\"display:none;\">\n",
              "        \n",
              "  <svg xmlns=\"http://www.w3.org/2000/svg\" height=\"24px\"viewBox=\"0 0 24 24\"\n",
              "       width=\"24px\">\n",
              "    <path d=\"M0 0h24v24H0V0z\" fill=\"none\"/>\n",
              "    <path d=\"M18.56 5.44l.94 2.06.94-2.06 2.06-.94-2.06-.94-.94-2.06-.94 2.06-2.06.94zm-11 1L8.5 8.5l.94-2.06 2.06-.94-2.06-.94L8.5 2.5l-.94 2.06-2.06.94zm10 10l.94 2.06.94-2.06 2.06-.94-2.06-.94-.94-2.06-.94 2.06-2.06.94z\"/><path d=\"M17.41 7.96l-1.37-1.37c-.4-.4-.92-.59-1.43-.59-.52 0-1.04.2-1.43.59L10.3 9.45l-7.72 7.72c-.78.78-.78 2.05 0 2.83L4 21.41c.39.39.9.59 1.41.59.51 0 1.02-.2 1.41-.59l7.78-7.78 2.81-2.81c.8-.78.8-2.07 0-2.86zM5.41 20L4 18.59l7.72-7.72 1.47 1.35L5.41 20z\"/>\n",
              "  </svg>\n",
              "      </button>\n",
              "      \n",
              "  <style>\n",
              "    .colab-df-container {\n",
              "      display:flex;\n",
              "      flex-wrap:wrap;\n",
              "      gap: 12px;\n",
              "    }\n",
              "\n",
              "    .colab-df-convert {\n",
              "      background-color: #E8F0FE;\n",
              "      border: none;\n",
              "      border-radius: 50%;\n",
              "      cursor: pointer;\n",
              "      display: none;\n",
              "      fill: #1967D2;\n",
              "      height: 32px;\n",
              "      padding: 0 0 0 0;\n",
              "      width: 32px;\n",
              "    }\n",
              "\n",
              "    .colab-df-convert:hover {\n",
              "      background-color: #E2EBFA;\n",
              "      box-shadow: 0px 1px 2px rgba(60, 64, 67, 0.3), 0px 1px 3px 1px rgba(60, 64, 67, 0.15);\n",
              "      fill: #174EA6;\n",
              "    }\n",
              "\n",
              "    [theme=dark] .colab-df-convert {\n",
              "      background-color: #3B4455;\n",
              "      fill: #D2E3FC;\n",
              "    }\n",
              "\n",
              "    [theme=dark] .colab-df-convert:hover {\n",
              "      background-color: #434B5C;\n",
              "      box-shadow: 0px 1px 3px 1px rgba(0, 0, 0, 0.15);\n",
              "      filter: drop-shadow(0px 1px 2px rgba(0, 0, 0, 0.3));\n",
              "      fill: #FFFFFF;\n",
              "    }\n",
              "  </style>\n",
              "\n",
              "      <script>\n",
              "        const buttonEl =\n",
              "          document.querySelector('#df-5c9b4f5c-b7fb-4cad-8668-c847f6b570d0 button.colab-df-convert');\n",
              "        buttonEl.style.display =\n",
              "          google.colab.kernel.accessAllowed ? 'block' : 'none';\n",
              "\n",
              "        async function convertToInteractive(key) {\n",
              "          const element = document.querySelector('#df-5c9b4f5c-b7fb-4cad-8668-c847f6b570d0');\n",
              "          const dataTable =\n",
              "            await google.colab.kernel.invokeFunction('convertToInteractive',\n",
              "                                                     [key], {});\n",
              "          if (!dataTable) return;\n",
              "\n",
              "          const docLinkHtml = 'Like what you see? Visit the ' +\n",
              "            '<a target=\"_blank\" href=https://colab.research.google.com/notebooks/data_table.ipynb>data table notebook</a>'\n",
              "            + ' to learn more about interactive tables.';\n",
              "          element.innerHTML = '';\n",
              "          dataTable['output_type'] = 'display_data';\n",
              "          await google.colab.output.renderOutput(dataTable, element);\n",
              "          const docLink = document.createElement('div');\n",
              "          docLink.innerHTML = docLinkHtml;\n",
              "          element.appendChild(docLink);\n",
              "        }\n",
              "      </script>\n",
              "    </div>\n",
              "  </div>\n",
              "  "
            ]
          },
          "metadata": {},
          "execution_count": 7
        }
      ],
      "source": [
        "dataset = [\n",
        "           [0.1,0.6],\n",
        "           [0.15,0.71],\n",
        "           [0.08,0.9],\n",
        "           [0.16, 0.85],\n",
        "           [0.2,0.3],\n",
        "           [0.25,0.5],\n",
        "           [0.24,0.1],\n",
        "           [0.3,0.2]     \n",
        "]\n",
        "data = pd.DataFrame(dataset, columns=['X', 'Y'])\n",
        "data.head()"
      ]
    },
    {
      "cell_type": "code",
      "source": [
        "X = np.array(data)\n",
        "centroids = np.array([\n",
        "            [0.1, 0.6],\n",
        "            [0.3, 0.2]\n",
        "])\n",
        "centroids"
      ],
      "metadata": {
        "colab": {
          "base_uri": "https://localhost:8080/"
        },
        "id": "Afcsvv62yeYq",
        "outputId": "5f45c4b9-3d41-4b7b-8d02-f5d4b98b49b9"
      },
      "execution_count": null,
      "outputs": [
        {
          "output_type": "execute_result",
          "data": {
            "text/plain": [
              "array([[0.1, 0.6],\n",
              "       [0.3, 0.2]])"
            ]
          },
          "metadata": {},
          "execution_count": 8
        }
      ]
    },
    {
      "cell_type": "code",
      "source": [
        "class K_Means:\n",
        "  def __init__(self, k = 2, tol = 0.01, max_iter = 300):\n",
        "    self.k = k\n",
        "    self.tol = tol\n",
        "    self.max_iter = max_iter\n",
        "    self.cur_centroid = []\n",
        "\n",
        "  def get_cluster(self, data):\n",
        "    distances = []\n",
        "    x1, y1 = data[0], data[1]\n",
        "    for centroid in self.cur_centroid:\n",
        "      x2, y2 = centroid[0], centroid[1]\n",
        "      distances.append((y2-y1)**2 + (x2-x1)**2)\n",
        "    \n",
        "    classification = distances.index(min(distances))\n",
        "    return classification\n",
        "\n",
        "  def fit(self, data, centroid):\n",
        "    self.cur_centroid = centroid\n",
        "    new_centroids = []\n",
        "\n",
        "    iter = 0\n",
        "    while iter < self.max_iter:\n",
        "      i = 0\n",
        "      cur_clusters = [[] for i in range(self.k)]\n",
        "\n",
        "      for pt in data: cur_clusters[self.get_cluster(pt)].append(pt)\n",
        "\n",
        "      new_centroids = [\n",
        "                       np.average(\n",
        "                           cur_clusters[i], axis=0\n",
        "                       ) for i in range(self.k)\n",
        "      ]\n",
        "\n",
        "      optimized = True\n",
        "\n",
        "      for i in range(len(self.cur_centroid)):\n",
        "        if (\n",
        "            np.abs(\n",
        "                np.sum(\n",
        "                    (new_centroids[i] - self.cur_centroid[i])/self.cur_centroid[i]\n",
        "                )\n",
        "            )\n",
        "        ): \n",
        "          optimized = False\n",
        "      \n",
        "      if optimized == True: break\n",
        "\n",
        "      self.cur_centroid = new_centroids\n",
        "      iter += 1\n",
        "    \n",
        "    print(\"Final centroids\", self.cur_centroid)\n",
        "    return cur_clusters, self.cur_centroid\n"
      ],
      "metadata": {
        "id": "xOhK7XrVy2eW"
      },
      "execution_count": null,
      "outputs": []
    },
    {
      "cell_type": "code",
      "source": [
        "km = K_Means()\n",
        "clusters, centroids = km.fit(X, centroids)"
      ],
      "metadata": {
        "colab": {
          "base_uri": "https://localhost:8080/"
        },
        "id": "3PQdlKn31ewV",
        "outputId": "9eda35d2-7584-4c49-adc8-4908a31bdac3"
      },
      "execution_count": null,
      "outputs": [
        {
          "output_type": "stream",
          "name": "stdout",
          "text": [
            "Final centroids [array([0.148, 0.712]), array([0.24666667, 0.2       ])]\n"
          ]
        }
      ]
    },
    {
      "cell_type": "markdown",
      "source": [
        "## Before Clustering"
      ],
      "metadata": {
        "id": "wZs8jaVA1nqP"
      }
    },
    {
      "cell_type": "code",
      "source": [
        "plt.figure()\n",
        "plt.scatter(X[:, 0], X[:, 1], alpha=0.3)\n",
        "plt.show()"
      ],
      "metadata": {
        "colab": {
          "base_uri": "https://localhost:8080/",
          "height": 265
        },
        "id": "Rh1DtSSo1pjy",
        "outputId": "4949a553-fc6a-4bee-a3c7-e524ff27eb64"
      },
      "execution_count": null,
      "outputs": [
        {
          "output_type": "display_data",
          "data": {
            "text/plain": [
              "<Figure size 432x288 with 1 Axes>"
            ],
            "image/png": "[encoded data removed]"
          },
          "metadata": {
            "needs_background": "light"
          }
        }
      ]
    },
    {
      "cell_type": "markdown",
      "source": [
        "## After Clustering"
      ],
      "metadata": {
        "id": "PSdRXqm-2F6C"
      }
    },
    {
      "cell_type": "code",
      "source": [
        "colors = ['r', 'b']\n",
        "plt.figure()\n",
        "\n",
        "for i in range(len(clusters)):\n",
        "  for c in clusters[i]:\n",
        "    plt.scatter(c[0], c[1], color = colors[i])\n",
        "\n",
        "for centroid in centroids:\n",
        "  plt.scatter(\n",
        "      centroid[0],\n",
        "      centroid[1],\n",
        "      marker = 'x',\n",
        "      color = 'black'\n",
        "  )\n",
        "\n",
        "plt.show()"
      ],
      "metadata": {
        "colab": {
          "base_uri": "https://localhost:8080/",
          "height": 265
        },
        "id": "_YKY8kZ22FIn",
        "outputId": "ffff8bc7-0413-4ba0-9c82-b65795dad5c5"
      },
      "execution_count": null,
      "outputs": [
        {
          "output_type": "display_data",
          "data": {
            "text/plain": [
              "<Figure size 432x288 with 1 Axes>"
            ],
            "image/png": "[encoded data removed]"
          },
          "metadata": {
            "needs_background": "light"
          }
        }
      ]
    }
  ]
}