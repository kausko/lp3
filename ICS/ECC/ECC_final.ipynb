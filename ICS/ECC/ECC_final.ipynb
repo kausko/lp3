{
 "cells": [
  {
   "cell_type": "code",
   "execution_count": 1,
   "metadata": {},
   "outputs": [],
   "source": [
    "from math import sqrt\n",
    "from random import randint\n",
    "Point = tuple[int, int]"
   ]
  },
  {
   "cell_type": "markdown",
   "metadata": {},
   "source": [
    "Modular division: $$ \\frac{a}{b} \\: \\% \\: m = a(b^{m-2} \\: \\% \\: m) \\: \\% \\: m $$"
   ]
  },
  {
   "cell_type": "code",
   "execution_count": 2,
   "metadata": {},
   "outputs": [],
   "source": [
    "def mod_div(a: int, b: int, m: int):\n",
    "\treturn (a * pow(b, m - 2, m)) % m"
   ]
  },
  {
   "cell_type": "markdown",
   "metadata": {},
   "source": [
    "Elliptic curve equation: $$ y^{2} = x^{3} + ax + b $$\n",
    "Weierstrass constraint: $$ 4a^{3} + 27b^{2} \\neq 0 $$\n",
    "Point addition: \n",
    "$$ x_{3} = \\{\\lambda^{2} - x_{1} - x_{2} \\} \\: mod \\: p $$\n",
    "$$ y_{3} = \\{\\lambda(x_{1} - x_{3}) - y_{1} \\} \\: mod \\: p $$\n",
    "$$ \\lambda = \\frac{y_{2} - y_{1}}{x_{2} - x_{1}} \\: mod \\: p $$\n",
    "$$ When \\: (x_{1},y_{1}) = (x_{2},y_{2}), $$\n",
    "$$ \\lambda = \\frac{3x + a}{2y} \\: mod \\: p $$"
   ]
  },
  {
   "cell_type": "code",
   "execution_count": 3,
   "metadata": {},
   "outputs": [],
   "source": [
    "class ECC:\n",
    "\tdef __init__(self, a: int, b: int, p: int):\n",
    "\t\tself.a = a\n",
    "\t\tself.b = b\n",
    "\t\tself.p = p\n",
    "\t\tself.G = self.generate_point()\n",
    "\n",
    "\tdef generate_point(self):\n",
    "\t\tif (4 * (self.a ** 3) + 27 * (self.b ** 2)) == 0:\n",
    "\t\t\traise ValueError(\"Constraints for Weierstrass equation not met\")\n",
    "\t\t\n",
    "\t\tx, y = 1, 0\n",
    "\t\twhile True:\n",
    "\t\t\trhs = (x ** 3) + (self.a * x) + self.b\n",
    "\t\t\ty = int(sqrt(rhs))\n",
    "\t\t\tif y ** 2 == rhs:\n",
    "\t\t\t\tbreak\n",
    "\t\t\tx += 1\n",
    "\n",
    "\t\treturn Point((x, y))\n",
    "\n",
    "\tdef add(self, p1: Point, p2: Point):\n",
    "\t\tx1, y1 = p1\n",
    "\t\tx2, y2 = p2\n",
    "\n",
    "\t\tnum = y2 - y1\n",
    "\t\tden = x2 - x1\n",
    "\n",
    "\t\t# point doubling\n",
    "\t\tif p1 == p2:\n",
    "\t\t\tnum = (3 * (x1 ** 2)) + self.a # d(x^3)/dx = 3x^2 + a\n",
    "\t\t\tden = 2 * y1 # d(y^2)/dy = 2y\n",
    "\t\t\n",
    "\t\tl = mod_div(num, den, self.p)\n",
    "\t\tx3 = ((l ** 2) - x1 - x2) % self.p\n",
    "\t\ty3 = ((l * (x1 - x3)) - y1) % self.p\n",
    "\n",
    "\t\treturn Point((x3, y3))\n",
    "\n",
    "\tdef mul(self, k: int, p: Point):\n",
    "\t\ttemp = p\n",
    "\t\twhile k != 1:\n",
    "\t\t\ttemp = self.add(temp, p)\n",
    "\t\t\tk -= 1\n",
    "\t\treturn temp\n",
    "\n",
    "\tdef sub(self, p1: Point, p2: Point):\n",
    "\t\tx2, y2 = p2\n",
    "\t\treturn self.add(p1, (x2, -y2))\n",
    "\n",
    "\tdef encrypt(self, Pm: Point, Pb: Point):\n",
    "\t\tx = 5 # randint(1, 10)\n",
    "\t\tprint(\"Randomly generated value (x):\", x)\n",
    "\t\t# {xG, Pm + xPb}\n",
    "\t\treturn (\n",
    "\t\t\tself.mul(x, self.G),\n",
    "\t\t\tself.add(Pm, self.mul(x, Pb))\n",
    "\t\t)\n",
    "\t\n",
    "\tdef decrypt(self, Cf: Point, Br: int):\n",
    "\t\txf, yf = Cf\n",
    "\t\t# (Pm + xPb) - Br(xG) = Pm + x(BrG) - BrxG = Pm\n",
    "\t\treturn self.sub(yf, self.mul(Br, xf))"
   ]
  },
  {
   "cell_type": "code",
   "execution_count": 4,
   "metadata": {},
   "outputs": [
    {
     "name": "stdout",
     "output_type": "stream",
     "text": [
      "Coefficients: a = 1, b = 2\n",
      "Elliptic group mod p: 11\n",
      "Generated point: (1, 2)\n"
     ]
    }
   ],
   "source": [
    "PREDEFINED = True\n",
    "a, b, p = 1, 2, 11\n",
    "if not PREDEFINED:\n",
    "\ta = int(input(\"Enter coefficient a: \"))\n",
    "\tb = int(input(\"Enter coefficient b: \"))\n",
    "\tp = int(input(\"Enter elliptic group mod p: \"))\n",
    "\n",
    "if p < a or p < b:\n",
    "\traise ValueError(\"Elliptic group mod p must be greater than a and b\")\n",
    "\n",
    "ecc = ECC(a, b, p)\n",
    "print(\"Coefficients: a = {}, b = {}\".format(a, b))\n",
    "print(\"Elliptic group mod p: {}\".format(p))\n",
    "print(\"Generated point:\", ecc.G)"
   ]
  },
  {
   "cell_type": "code",
   "execution_count": 5,
   "metadata": {},
   "outputs": [
    {
     "name": "stdout",
     "output_type": "stream",
     "text": [
      "Private Key (Br): 5\n",
      "Public Key (Pb): (1, 9)\n"
     ]
    }
   ],
   "source": [
    "Br = 5 if PREDEFINED else int(input(\"Enter Private Key (Br): \")) # 5\n",
    "Pb = ecc.mul(Br, ecc.G)\n",
    "print(\"Private Key (Br):\", Br)\n",
    "print(\"Public Key (Pb):\", Pb)"
   ]
  },
  {
   "cell_type": "code",
   "execution_count": 6,
   "metadata": {},
   "outputs": [
    {
     "name": "stdout",
     "output_type": "stream",
     "text": [
      "Randomly generated value (x): 5\n",
      "Plaintext (3, 4)\n",
      "Ciphertext: ((1, 9), (8, 2))\n"
     ]
    }
   ],
   "source": [
    "Pm_x, Pm_y = 3, 4\n",
    "\n",
    "if not PREDEFINED:\n",
    "\tPm_x = int(input(\"Enter plaintext x coordinate: \")) # 3\n",
    "\tPm_y = int(input(\"Enter plaintext y coordinate: \")) # 4\n",
    "\n",
    "Pm = Point((Pm_x, Pm_y))\n",
    "Cf = ecc.encrypt(Pm, Pb)\n",
    "\n",
    "print(\"Plaintext\", Pm)\n",
    "print(\"Ciphertext:\", Cf)"
   ]
  },
  {
   "cell_type": "code",
   "execution_count": 7,
   "metadata": {},
   "outputs": [
    {
     "name": "stdout",
     "output_type": "stream",
     "text": [
      "Decrypted text: (3, 4)\n"
     ]
    }
   ],
   "source": [
    "decrypted_text = ecc.decrypt(Cf, Br)\n",
    "assert decrypted_text == Pm\n",
    "print(\"Decrypted text:\", decrypted_text)"
   ]
  }
 ],
 "metadata": {
  "interpreter": {
   "hash": "81794d4967e6c3204c66dcd87b604927b115b27c00565d3d43f05ba2f3a2cb0d"
  },
  "kernelspec": {
   "display_name": "Python 3.9.6 64-bit",
   "language": "python",
   "name": "python3"
  },
  "language_info": {
   "codemirror_mode": {
    "name": "ipython",
    "version": 3
   },
   "file_extension": ".py",
   "mimetype": "text/x-python",
   "name": "python",
   "nbconvert_exporter": "python",
   "pygments_lexer": "ipython3",
   "version": "3.9.6"
  },
  "orig_nbformat": 4
 },
 "nbformat": 4,
 "nbformat_minor": 2
}
