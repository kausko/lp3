{
 "cells": [
  {
   "cell_type": "code",
   "execution_count": 12,
   "metadata": {},
   "outputs": [],
   "source": [
    "from math import sqrt\n",
    "P = 11\n",
    "Point = tuple[int, int]"
   ]
  },
  {
   "cell_type": "markdown",
   "metadata": {},
   "source": [
    "### Helper functions"
   ]
  },
  {
   "cell_type": "code",
   "execution_count": 13,
   "metadata": {},
   "outputs": [],
   "source": [
    "def mod_mul(a: int, b: int, m: int = P):\n",
    "\treturn ((a % m) * (b % m)) % m"
   ]
  },
  {
   "cell_type": "code",
   "execution_count": 14,
   "metadata": {},
   "outputs": [],
   "source": [
    "def mod_pow(a: int, b: int, m: int = P) -> int:\n",
    "\tif b == 0:\n",
    "\t\treturn 1\n",
    "\tr = mod_pow(a, b//2, m)\n",
    "\tr = (r * r) % m\n",
    "\tif b % 2:\n",
    "\t\tr = (r * a) % m\n",
    "\treturn r"
   ]
  },
  {
   "cell_type": "code",
   "execution_count": 15,
   "metadata": {},
   "outputs": [],
   "source": [
    "def mod_div(a: int, b: int, m: int = P):\n",
    "\treturn mod_mul(a, mod_pow(b, m-2, m), m)"
   ]
  },
  {
   "cell_type": "code",
   "execution_count": 16,
   "metadata": {},
   "outputs": [],
   "source": [
    "def generate_point(a: int, b: int):\n",
    "\tif (4 * (a**3) + 27 * (b**2)) == 0:\n",
    "\t\traise ValueError(\"Enter other coefficients\")\n",
    "\t\n",
    "\tx = 1\n",
    "\ty = 0\n",
    "\twhile True:\n",
    "\t\trhs = (x**3) + (a * x) + b\n",
    "\t\ty = int(sqrt(rhs))\n",
    "\t\tlhs = y**2\n",
    "\t\tif lhs == rhs:\n",
    "\t\t\tbreak\n",
    "\t\tx += 1\n",
    "\n",
    "\treturn x, y"
   ]
  },
  {
   "cell_type": "markdown",
   "metadata": {},
   "source": [
    "### ECC"
   ]
  },
  {
   "cell_type": "code",
   "execution_count": 17,
   "metadata": {},
   "outputs": [],
   "source": [
    "class ECC:\n",
    "\tdef __init__(self, a: int, b: int):\n",
    "\t\tself.a = a\n",
    "\t\tself.b = b\n",
    "\n",
    "\tdef add(self, p1: Point, p2: Point, m: int = P):\n",
    "\t\tl = 0\n",
    "\t\tx1, y1 = p1\n",
    "\t\tx2, y2 = p2\n",
    "\t\t\n",
    "\t\tif p1 == p2:\n",
    "\t\t\tnum = 3 * (x1**2) + a\n",
    "\t\t\tden = 2 * y1\n",
    "\t\telse:\n",
    "\t\t\tnum = y2 - y1\n",
    "\t\t\tden = x2 - x1\n",
    "\t\t\n",
    "\t\tl = mod_div(num, den, m)\n",
    "\t\tx3 = ((l**2) - x1 - x2) % m\n",
    "\t\ty3 = (l * (x1 - x3) - y1) % m\n",
    "\t\treturn x3, y3\n",
    "\t\n",
    "\tdef mul(self, k: int, p: Point):\n",
    "\t\ttemp = p\n",
    "\t\twhile k != 1:\n",
    "\t\t\ttemp = self.add(temp, p)\n",
    "\t\t\tk -= 1\n",
    "\t\treturn temp\n",
    "\n",
    "\tdef sub(self, p1: Point, p2: Point):\n",
    "\t\tx2, y2 = p2\n",
    "\t\treturn self.add(p1, (x2, -y2))"
   ]
  },
  {
   "cell_type": "markdown",
   "metadata": {},
   "source": [
    "### Main functions"
   ]
  },
  {
   "cell_type": "code",
   "execution_count": 18,
   "metadata": {},
   "outputs": [],
   "source": [
    "def encrypt(ecc: ECC, plaintext: Point, public_key: Point, G: Point):\n",
    "\tk = 5\n",
    "\treturn (\n",
    "\t\tecc.mul(k, G),\n",
    "\t\tecc.add(plaintext, ecc.mul(k, public_key))\n",
    "\t)"
   ]
  },
  {
   "cell_type": "code",
   "execution_count": 19,
   "metadata": {},
   "outputs": [],
   "source": [
    "def decrypt(ecc: ECC, ciphertext: Point, private_key: int):\n",
    "\tx, y = ciphertext\n",
    "\treturn ecc.sub(y, ecc.mul(private_key, x))"
   ]
  },
  {
   "cell_type": "markdown",
   "metadata": {},
   "source": [
    "### I/O"
   ]
  },
  {
   "cell_type": "code",
   "execution_count": 20,
   "metadata": {},
   "outputs": [
    {
     "name": "stdout",
     "output_type": "stream",
     "text": [
      "(1, 2)\n"
     ]
    }
   ],
   "source": [
    "a = int(input(\"Enter coefficient a:\"))\n",
    "b = int(input(\"Enter coefficient b:\"))\n",
    "\n",
    "ecc = ECC(a,b)\n",
    "G = generate_point(a, b)\n",
    "print(G)"
   ]
  },
  {
   "cell_type": "code",
   "execution_count": 21,
   "metadata": {},
   "outputs": [
    {
     "name": "stdout",
     "output_type": "stream",
     "text": [
      "(1, 9)\n"
     ]
    }
   ],
   "source": [
    "private_key = 5\n",
    "public_key = ecc.mul(private_key, G)\n",
    "print(public_key)"
   ]
  },
  {
   "cell_type": "code",
   "execution_count": 22,
   "metadata": {},
   "outputs": [
    {
     "name": "stdout",
     "output_type": "stream",
     "text": [
      "((1, 9), (8, 2))\n"
     ]
    }
   ],
   "source": [
    "plaintext = (3,4)\n",
    "ciphertext = encrypt(ecc, plaintext, public_key, G)\n",
    "print(ciphertext)"
   ]
  },
  {
   "cell_type": "code",
   "execution_count": 23,
   "metadata": {},
   "outputs": [
    {
     "name": "stdout",
     "output_type": "stream",
     "text": [
      "(3, 4)\n"
     ]
    }
   ],
   "source": [
    "decrypted_text = decrypt(ecc, ciphertext, private_key)\n",
    "print(decrypted_text)"
   ]
  }
 ],
 "metadata": {
  "interpreter": {
   "hash": "81794d4967e6c3204c66dcd87b604927b115b27c00565d3d43f05ba2f3a2cb0d"
  },
  "kernelspec": {
   "display_name": "Python 3.9.6 64-bit",
   "language": "python",
   "name": "python3"
  },
  "language_info": {
   "codemirror_mode": {
    "name": "ipython",
    "version": 3
   },
   "file_extension": ".py",
   "mimetype": "text/x-python",
   "name": "python",
   "nbconvert_exporter": "python",
   "pygments_lexer": "ipython3",
   "version": "3.9.6"
  },
  "orig_nbformat": 4
 },
 "nbformat": 4,
 "nbformat_minor": 2
}
