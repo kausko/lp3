{
 "cells": [
  {
   "cell_type": "markdown",
   "metadata": {},
   "source": [
    "## S-DES"
   ]
  },
  {
   "cell_type": "code",
   "execution_count": 300,
   "metadata": {},
   "outputs": [],
   "source": [
    "from typing import Literal"
   ]
  },
  {
   "cell_type": "markdown",
   "metadata": {},
   "source": [
    "### Constants"
   ]
  },
  {
   "cell_type": "code",
   "execution_count": 301,
   "metadata": {},
   "outputs": [],
   "source": [
    "P10 = [3, 5, 2, 7, 4, 10, 1, 9, 8, 6] \n",
    "P8 = [6, 3, 7, 4, 8, 5, 10, 9]\n",
    "IP = [2, 6, 3, 1, 4, 8, 5, 7]\n",
    "FP = [4, 1, 3, 5, 7, 2, 8, 6] # or [IP.index(i)+1 for i in range(1, len(IP)+1)] (Inverse of IP)\n",
    "\n",
    "EP = [4, 1, 2, 3, 2, 3, 4, 1]\n",
    "S0 = [\n",
    "\t[1, 0, 3, 2], \n",
    "\t[3, 2, 1, 0], \n",
    "\t[0, 2, 1, 3], \n",
    "\t[3, 1, 3, 2]\n",
    "]\n",
    "S1 = [\n",
    "\t[0, 1, 2, 3], \n",
    "\t[2, 0, 1, 3], \n",
    "\t[3, 0, 1, 0], \n",
    "\t[2, 1, 0, 3]\n",
    "]\n",
    "P4 = [2, 4, 3, 1]\n"
   ]
  },
  {
   "cell_type": "markdown",
   "metadata": {},
   "source": [
    "### Helper functions"
   ]
  },
  {
   "cell_type": "code",
   "execution_count": 302,
   "metadata": {},
   "outputs": [],
   "source": [
    "def bin_to_dec(x: str):\n",
    "\treturn int(x, 2)\n",
    "\n",
    "def dec_to_bin(x: int):\n",
    "\treturn bin(x)[2:]"
   ]
  },
  {
   "cell_type": "code",
   "execution_count": 304,
   "metadata": {},
   "outputs": [],
   "source": [
    "def left_circular_shift(x: str, shifts:int = 1):\n",
    "\tshifts %= len(x)\n",
    "\treturn x[shifts:] + x[:shifts]"
   ]
  },
  {
   "cell_type": "code",
   "execution_count": 305,
   "metadata": {},
   "outputs": [],
   "source": [
    "def permutate(key: str, perm: list):\n",
    "\t# TODO: Handle plaintext > 8 bits\n",
    "\tres = ''\n",
    "\tfor k in perm:\n",
    "\t\tres += key[k-1]\n",
    "\treturn res"
   ]
  },
  {
   "cell_type": "code",
   "execution_count": 306,
   "metadata": {},
   "outputs": [],
   "source": [
    "def split_str(key: str):\n",
    "\thalf = len(key) // 2 # integer division operator\n",
    "\treturn key[:half], key[half:]"
   ]
  },
  {
   "cell_type": "code",
   "execution_count": 307,
   "metadata": {},
   "outputs": [],
   "source": [
    "def xor(x: str, y: str):\n",
    "\tres = ''\n",
    "\tfor i in range(len(x)):\n",
    "\t\tres += '0' if x[i] == y[i] else '1'\n",
    "\treturn res"
   ]
  },
  {
   "cell_type": "markdown",
   "metadata": {},
   "source": [
    "### Algorithm"
   ]
  },
  {
   "cell_type": "code",
   "execution_count": 308,
   "metadata": {},
   "outputs": [],
   "source": [
    "def gen_subkeys(key: str) -> tuple[str, str]:\n",
    "\tl_key, r_key = split_str(permutate(key, P10))\n",
    "\tsubkeys = []\n",
    "\n",
    "\tfor i in [1,2]:\n",
    "\t\tl_key, r_key = [left_circular_shift(x, i) for x in [l_key, r_key]]\n",
    "\t\tsubkeys.append(permutate(l_key + r_key, P8))\n",
    "\n",
    "\treturn tuple(subkeys)"
   ]
  },
  {
   "cell_type": "code",
   "execution_count": 309,
   "metadata": {},
   "outputs": [],
   "source": [
    "def s_box(text: str, s: list[list[int]]):\n",
    "\tr = text[0] + text[3]\n",
    "\tc = text[1] + text[2]\n",
    "\n",
    "\tr,c = [bin_to_dec(i) for i in [r,c]]\n",
    "\n",
    "\tout = dec_to_bin(s[r][c])\n",
    "\n",
    "\tif len(out) < 2:\n",
    "\t\tout = ('0' * (2 - len(out))) + out\n",
    "\t\n",
    "\treturn out"
   ]
  },
  {
   "cell_type": "code",
   "execution_count": 310,
   "metadata": {},
   "outputs": [],
   "source": [
    "def fk(l_in: str, r_in: str, subkey: str):\n",
    "\tl_out = r_in\n",
    "\tl_out = permutate(l_out, EP)\n",
    "\tl_out = xor(l_out, subkey)\n",
    "\tleft, right = split_str(l_out)\n",
    "\tl_out = s_box(left, S0) + s_box(right, S1)\n",
    "\tl_out = permutate(l_out, P4)\n",
    "\tl_out = xor(l_out, l_in)\n",
    "\treturn l_out, r_in"
   ]
  },
  {
   "cell_type": "code",
   "execution_count": 311,
   "metadata": {},
   "outputs": [],
   "source": [
    "def x_cryption(input_text: str, key: str, process: Literal['encryption', 'decryption']):\n",
    "\tprint('\\n', process)\n",
    "\t\n",
    "\tk1, k2 = gen_subkeys(key)\n",
    "\tprint(\"k1:\", k1, \"\\nk2:\", k2)\n",
    "\t\n",
    "\tif process == 'decryption':\n",
    "\t\tk1, k2 = k2, k1\n",
    "\t\n",
    "\toutput_text = permutate(input_text, IP)\n",
    "\tprint(\"IP:\", output_text)\n",
    "\n",
    "\tleft, right = split_str(output_text)\n",
    "\n",
    "\tleft, right = fk(left, right, k1)\n",
    "\tprint(\"fk1:\", left, right)\n",
    "\n",
    "\tleft, right = right, left\n",
    "\n",
    "\tleft, right = fk(left, right, k2)\n",
    "\tprint(\"fk2:\", left, right)\n",
    "\n",
    "\toutput_text = permutate(left + right, FP)\n",
    "\tprint(\"FP:\", output_text)\n",
    "\n",
    "\treturn output_text"
   ]
  },
  {
   "cell_type": "code",
   "execution_count": 312,
   "metadata": {},
   "outputs": [],
   "source": [
    "def encryption(plaintext: str, key: str):\n",
    "\treturn x_cryption(plaintext, key, 'encryption')\n",
    "\n",
    "def decryption(ciphertext: str, key: str):\n",
    "\treturn x_cryption(ciphertext, key, 'decryption')"
   ]
  },
  {
   "cell_type": "markdown",
   "metadata": {},
   "source": [
    "### I/O"
   ]
  },
  {
   "cell_type": "code",
   "execution_count": null,
   "metadata": {},
   "outputs": [],
   "source": [
    "# optional input validation\n",
    "def ip_validate(ip: str, l: int) -> str:\n",
    "\ttemp = input(\"Enter {}: \".format(ip))\n",
    "\t# return temp here to skip validation\n",
    "\tif ip == 'key':\n",
    "\t\tis_bin = False\n",
    "\t\ttry:\n",
    "\t\t\ttemp = bin_to_dec(temp) # Will fail here if non-binary\n",
    "\t\t\ttemp = dec_to_bin(temp) # Strip 0b\n",
    "\t\t\tis_bin = True\n",
    "\t\texcept ValueError:\n",
    "\t\t\tprint(\"Non-binary input detected, attempting conversion to binary\")\n",
    "\t\t\tpass\n",
    "\n",
    "\t\tif not is_bin:\n",
    "\t\t\ttemp = dec_to_bin(int(temp))\n",
    "\n",
    "\t\tif len(temp) > l:\n",
    "\t\t\traise ValueError(\"Input '{}' is bigger than expected\".format(ip))\n",
    "\t\n",
    "\tif len(temp) < l:\n",
    "\t\tprint(\"Input '{}' is smaller than expected; Padding with 0s\".format(ip))\n",
    "\n",
    "\ttemp = '0' * (l - len(temp)) + temp\n",
    "\treturn temp"
   ]
  },
  {
   "cell_type": "code",
   "execution_count": 313,
   "metadata": {},
   "outputs": [
    {
     "name": "stdout",
     "output_type": "stream",
     "text": [
      "key 1100011110\n",
      "plaintext 00101000\n",
      "\n",
      " encryption\n",
      "k1: 11101001 \n",
      "k2: 10100111\n",
      "IP: 00100010\n",
      "fk1: 0011 0010\n",
      "fk2: 0001 0011\n",
      "FP: 10001010\n",
      "Ciphertext: 10001010\n",
      "\n",
      " decryption\n",
      "k1: 11101001 \n",
      "k2: 10100111\n",
      "IP: 00010011\n",
      "fk1: 0010 0011\n",
      "fk2: 0010 0010\n",
      "FP: 00101000\n",
      "Plaintext: 00101000\n"
     ]
    }
   ],
   "source": [
    "PREDEFINED = True\n",
    "\n",
    "key = '1100011110' if PREDEFINED else ip_validate(\"key\", 10)\n",
    "plaintext = '00101000' if PREDEFINED else ip_validate(\"plaintext\", 8)\n",
    "\n",
    "print(\"key\", key)\n",
    "print(\"plaintext\", plaintext)\n",
    "\n",
    "ciphertext = encryption(plaintext, key)\n",
    "print(\"Ciphertext:\",ciphertext)\n",
    "\n",
    "p = decryption(ciphertext, key)\n",
    "print(\"Plaintext:\", p)\n",
    "\n",
    "assert(p == plaintext)"
   ]
  }
 ],
 "metadata": {
  "interpreter": {
   "hash": "81794d4967e6c3204c66dcd87b604927b115b27c00565d3d43f05ba2f3a2cb0d"
  },
  "kernelspec": {
   "display_name": "Python 3.9.6 64-bit",
   "language": "python",
   "name": "python3"
  },
  "language_info": {
   "codemirror_mode": {
    "name": "ipython",
    "version": 3
   },
   "file_extension": ".py",
   "mimetype": "text/x-python",
   "name": "python",
   "nbconvert_exporter": "python",
   "pygments_lexer": "ipython3",
   "version": "3.9.6"
  },
  "orig_nbformat": 4
 },
 "nbformat": 4,
 "nbformat_minor": 2
}
