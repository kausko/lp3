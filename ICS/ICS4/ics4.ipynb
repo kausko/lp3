{
 "cells": [
  {
   "cell_type": "markdown",
   "metadata": {},
   "source": [
    "## RSA"
   ]
  },
  {
   "cell_type": "markdown",
   "metadata": {},
   "source": [
    "### imports"
   ]
  },
  {
   "cell_type": "code",
   "execution_count": 96,
   "metadata": {},
   "outputs": [],
   "source": [
    "from math import gcd\n",
    "from random import randint, sample"
   ]
  },
  {
   "cell_type": "markdown",
   "metadata": {},
   "source": [
    "### utility functions"
   ]
  },
  {
   "cell_type": "code",
   "execution_count": 97,
   "metadata": {},
   "outputs": [],
   "source": [
    "def generate_primes(pn:int = 1000):\n",
    "\tprime_flags = [True] * pn\n",
    "\tpi = 2 # prime iterator\n",
    "\n",
    "\tprime_flags[0] = False\n",
    "\tprime_flags[1] = False\n",
    "\t# Sieve of Eratosthenes\n",
    "\twhile (pi*pi <= pn-1):\n",
    "\t\tif prime_flags[pi]:\n",
    "\t\t\tfor i in range(pi * pi, pn, pi):\n",
    "\t\t\t\tprime_flags[i] = False\n",
    "\t\tpi += 1\n",
    "\t\n",
    "\treturn set(i for i, flag in enumerate(prime_flags) if flag)"
   ]
  },
  {
   "cell_type": "markdown",
   "metadata": {},
   "source": [
    "### RSA Class"
   ]
  },
  {
   "cell_type": "code",
   "execution_count": 98,
   "metadata": {},
   "outputs": [],
   "source": [
    "class RSA:\n",
    "\tdef __init__(self, a: int, b: int):\n",
    "\t\tself.a = a\n",
    "\t\tself.b = b\n",
    "\t\tself.n = a * b\n",
    "\t\tself.phi_n = (a - 1) * (b - 1)\n",
    "\t\tself.e = self.generate_public_key()\n",
    "\t\tself.d = self.generate_private_key()\n",
    "\n",
    "\tdef generate_public_key(self):\n",
    "\t\te = 2\n",
    "\t\twhile e < self.phi_n and gcd(e, self.phi_n) != 1:\n",
    "\t\t\te += 1\n",
    "\t\t\"\"\"or\n",
    "\t\twhile gcd(e, self.phi_n) != 1:\n",
    "\t\t\te = randint(2, self.phi_n)\n",
    "\t\t\"\"\"\n",
    "\t\treturn e\n",
    "\t\n",
    "\tdef generate_private_key(self):\n",
    "\t\ti = 1\n",
    "\t\twhile (i * self.phi_n + 1) % self.e != 0:\n",
    "\t\t\ti += 1\n",
    "\t\treturn (i * self.phi_n + 1) // self.e\n",
    "\n",
    "\tdef encrypt(self, plaintext: int):\n",
    "\t\tif plaintext >= self.n:\n",
    "\t\t\traise ValueError(\"Plaintext cannot be greater than the product of the chosen primes {} and {}\".format(self.a, self.b))\n",
    "\t\treturn pow(plaintext, self.e, self.n)\n",
    "\t\n",
    "\tdef decrypt(self, ciphertext: int):\n",
    "\t\treturn pow(ciphertext, self.d, self.n)"
   ]
  },
  {
   "cell_type": "markdown",
   "metadata": {},
   "source": [
    "### I/O"
   ]
  },
  {
   "cell_type": "code",
   "execution_count": 99,
   "metadata": {},
   "outputs": [],
   "source": [
    "PREDEFINED = False\n",
    "primes = generate_primes()\n",
    "a,b = sample(list(primes), 2)\n",
    "\n",
    "if not PREDEFINED:\n",
    "\ta = int(input(\"Enter prime number 'a' (random: {}): \".format(a))) or a\n",
    "\t\n",
    "\tif a not in primes:\n",
    "\t\traise ValueError('{} is not a prime number'.format(a))\n",
    "\t\n",
    "\tb = int(input(\"Enter prime number 'b' (random: {}): \".format(b))) or b\n",
    "\tif b == a:\n",
    "\t\traise ValueError('Prime number b: {} cannot be the same as a: {}'.format(b, a))\n",
    "\t\n",
    "\tif b not in primes:\n",
    "\t\traise ValueError('{} is not a prime number'.format(b))\n"
   ]
  },
  {
   "cell_type": "code",
   "execution_count": 100,
   "metadata": {},
   "outputs": [
    {
     "name": "stdout",
     "output_type": "stream",
     "text": [
      "Primes:\t\t 709 , 97\n",
      "n:\t\t 68773\n",
      "phi(n):\t\t 67968\n",
      "e:\t\t 5\n",
      "d:\t\t 40781\n",
      "Public Key:\t [e, n] =  [5, 68773]\n",
      "Private Key:\t [d, n] =  [40781, 68773]\n"
     ]
    }
   ],
   "source": [
    "rsa = RSA(a, b)\n",
    "print(\"Primes:\\t\\t\", rsa.a, \",\", rsa.b)\n",
    "print(\"n:\\t\\t\", rsa.n)\n",
    "print(\"phi(n):\\t\\t\", rsa.phi_n)\n",
    "print(\"e:\\t\\t\", rsa.e)\n",
    "print(\"d:\\t\\t\", rsa.d)\n",
    "print(\"Public Key:\\t\", \"[e, n] = \", [rsa.e, rsa.n])\n",
    "print(\"Private Key:\\t\", \"[d, n] = \", [rsa.d, rsa.n])"
   ]
  },
  {
   "cell_type": "code",
   "execution_count": 101,
   "metadata": {},
   "outputs": [
    {
     "name": "stdout",
     "output_type": "stream",
     "text": [
      "Plaintext: 89\n",
      "Ciphertext: 35714\n"
     ]
    }
   ],
   "source": [
    "plaintext = int(input(\"Enter plaintext: \"))\n",
    "ciphertext = rsa.encrypt(plaintext)\n",
    "print(\"Plaintext:\", plaintext)\n",
    "print(\"Ciphertext:\", ciphertext)"
   ]
  },
  {
   "cell_type": "code",
   "execution_count": 102,
   "metadata": {},
   "outputs": [
    {
     "name": "stdout",
     "output_type": "stream",
     "text": [
      "Decrypted ciphertext:  89\n"
     ]
    }
   ],
   "source": [
    "result = rsa.decrypt(ciphertext)\n",
    "print(\"Decrypted ciphertext: \", result)\n",
    "assert result == plaintext"
   ]
  }
 ],
 "metadata": {
  "interpreter": {
   "hash": "81794d4967e6c3204c66dcd87b604927b115b27c00565d3d43f05ba2f3a2cb0d"
  },
  "kernelspec": {
   "display_name": "Python 3.9.6 64-bit",
   "language": "python",
   "name": "python3"
  },
  "language_info": {
   "codemirror_mode": {
    "name": "ipython",
    "version": 3
   },
   "file_extension": ".py",
   "mimetype": "text/x-python",
   "name": "python",
   "nbconvert_exporter": "python",
   "pygments_lexer": "ipython3",
   "version": "3.9.6"
  },
  "orig_nbformat": 4
 },
 "nbformat": 4,
 "nbformat_minor": 2
}
