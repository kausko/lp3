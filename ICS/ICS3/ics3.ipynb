{
 "cells": [
  {
   "cell_type": "markdown",
   "metadata": {},
   "source": [
    "## Diffie-Hellman Key Exchange"
   ]
  },
  {
   "cell_type": "markdown",
   "metadata": {},
   "source": [
    "### imports"
   ]
  },
  {
   "cell_type": "code",
   "execution_count": 1,
   "metadata": {},
   "outputs": [],
   "source": [
    "from math import gcd\n",
    "from random import choice, randint"
   ]
  },
  {
   "cell_type": "markdown",
   "metadata": {},
   "source": [
    "### utility functions"
   ]
  },
  {
   "cell_type": "code",
   "execution_count": 2,
   "metadata": {},
   "outputs": [],
   "source": [
    "def generate_primes(pn:int = 1000):\n",
    "\tprime_flags = [True] * pn\n",
    "\tpi = 2 # prime iterator\n",
    "\n",
    "\tprime_flags[0] = False\n",
    "\tprime_flags[1] = False\n",
    "\t# Sieve of Eratosthenes\n",
    "\twhile (pi*pi <= pn-1):\n",
    "\t\tif prime_flags[pi]:\n",
    "\t\t\tfor i in range(pi * pi, pn, pi):\n",
    "\t\t\t\tprime_flags[i] = False\n",
    "\t\tpi += 1\n",
    "\t\n",
    "\treturn set(i for i, flag in enumerate(prime_flags) if flag)"
   ]
  },
  {
   "cell_type": "code",
   "execution_count": 3,
   "metadata": {},
   "outputs": [],
   "source": [
    "def primitive_root(n: int):\n",
    "\tcoprime_set = {i for i in range(1,n) if gcd(i,n) == 1}\n",
    "\tfor g in range(1,n):\n",
    "\t\tif coprime_set == {pow(g, powers, n) for powers in range(1,n)}:\n",
    "\t\t\treturn g"
   ]
  },
  {
   "cell_type": "markdown",
   "metadata": {},
   "source": [
    "### I/O"
   ]
  },
  {
   "cell_type": "code",
   "execution_count": 4,
   "metadata": {},
   "outputs": [
    {
     "name": "stdout",
     "output_type": "stream",
     "text": [
      "Modulus: 353\n",
      "Base/Primitive root: 3\n",
      "A's private key: 97\n",
      "B's private key: 233\n"
     ]
    }
   ],
   "source": [
    "PREDEFINED = False\n",
    "primes = generate_primes()\n",
    "\n",
    "modulus = choice(list(primes)) # P\n",
    "pvt_key_a = randint(2, 1000) # A's private/secret key\n",
    "pvt_key_b = randint(2, 1000) # B's private/secret key\n",
    "\n",
    "if not PREDEFINED:\n",
    "\tmodulus = int(input(\"Enter modulus (random: {}): \".format(modulus))) or modulus\n",
    "\tif modulus not in primes:\n",
    "\t\traise ValueError(\"Modulus must be prime\")\n",
    "\t\n",
    "\tpvt_key_a = int(input(\"Enter A's private key (random: {}): \".format(pvt_key_a))) or pvt_key_a\n",
    "\tpvt_key_b = int(input(\"Enter B's private key (random: {}): \".format(pvt_key_b))) or pvt_key_b\n",
    "\n",
    "base: int = primitive_root(modulus) # G\n",
    "\n",
    "print(\"Modulus:\", modulus)\n",
    "print(\"Base/Primitive root:\", base)\n",
    "print(\"A's private key:\", pvt_key_a)\n",
    "print(\"B's private key:\", pvt_key_b)"
   ]
  },
  {
   "cell_type": "code",
   "execution_count": 5,
   "metadata": {},
   "outputs": [
    {
     "name": "stdout",
     "output_type": "stream",
     "text": [
      "A's calculated shared key for B: 40\n",
      "B's calculated shared key for A: 248\n"
     ]
    }
   ],
   "source": [
    "sk_ab = pow(base, pvt_key_a, modulus)\n",
    "sk_ba = pow(base, pvt_key_b, modulus)\n",
    "\n",
    "print(\"A's calculated shared key for B:\", sk_ab)\n",
    "print(\"B's calculated shared key for A:\", sk_ba)"
   ]
  },
  {
   "cell_type": "code",
   "execution_count": 6,
   "metadata": {},
   "outputs": [
    {
     "name": "stdout",
     "output_type": "stream",
     "text": [
      "Symmetric key (K): 160\n"
     ]
    }
   ],
   "source": [
    "sym_key_a = pow(sk_ba, pvt_key_a, modulus)\n",
    "sym_key_b = pow(sk_ab, pvt_key_b, modulus)\n",
    "assert sym_key_a == sym_key_b\n",
    "print(\"Symmetric key (K):\", sym_key_a)"
   ]
  }
 ],
 "metadata": {
  "interpreter": {
   "hash": "81794d4967e6c3204c66dcd87b604927b115b27c00565d3d43f05ba2f3a2cb0d"
  },
  "kernelspec": {
   "display_name": "Python 3.9.6 64-bit",
   "language": "python",
   "name": "python3"
  },
  "language_info": {
   "codemirror_mode": {
    "name": "ipython",
    "version": 3
   },
   "file_extension": ".py",
   "mimetype": "text/x-python",
   "name": "python",
   "nbconvert_exporter": "python",
   "pygments_lexer": "ipython3",
   "version": "3.9.6"
  },
  "orig_nbformat": 4
 },
 "nbformat": 4,
 "nbformat_minor": 2
}
